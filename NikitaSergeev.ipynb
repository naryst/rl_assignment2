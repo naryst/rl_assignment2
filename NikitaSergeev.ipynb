{
 "cells": [
  {
   "cell_type": "code",
   "execution_count": 408,
   "outputs": [],
   "source": [
    "import torch\n",
    "import torch.nn as nn\n",
    "import torch.nn.functional as F\n",
    "import torch.optim as optim\n",
    "import numpy as np\n",
    "import matplotlib.pyplot as plt\n",
    "from collections import namedtuple, deque\n",
    "import random\n",
    "import seaborn as sns"
   ],
   "metadata": {
    "collapsed": false,
    "pycharm": {
     "name": "#%%\n"
    }
   }
  },
  {
   "cell_type": "code",
   "execution_count": 409,
   "outputs": [],
   "source": [
    "class Environment:\n",
    "    def __init__(self, map_of_world):\n",
    "        self.world_h = len(map_of_world)\n",
    "        self.world_w = len(map_of_world[0])\n",
    "        self.cargos = dict()\n",
    "        self.desired_space = []\n",
    "        # change r in a world map to -1\n",
    "        modified_world = []\n",
    "        for row in map_of_world:\n",
    "            modified_row = []\n",
    "            for c in row:\n",
    "                if c == \"r\":\n",
    "                    modified_row.append(-1)\n",
    "                else:\n",
    "                    modified_row.append(int(c))\n",
    "            modified_world.append(modified_row)\n",
    "        self.world = modified_world\n",
    "        self.world = np.array(self.world)\n",
    "\n",
    "        for y_coord in range(len(map_of_world)):\n",
    "            for x_coord in range(len(map_of_world[0])):\n",
    "                if map_of_world[y_coord][x_coord] == \"r\":\n",
    "                    self.desired_space.append((y_coord, x_coord))\n",
    "                if map_of_world[y_coord][x_coord].isdigit() and int(map_of_world[y_coord][x_coord]) != 0:\n",
    "                    if map_of_world[y_coord][x_coord] not in self.cargos:\n",
    "                        self.cargos[map_of_world[y_coord][x_coord]] = []\n",
    "                    self.cargos[map_of_world[y_coord][x_coord]].append((y_coord, x_coord))\n",
    "        for key in self.cargos:\n",
    "            self.cargos[key] = np.array(self.cargos[key])\n",
    "\n",
    "        self.desired_space = np.array(self.desired_space)\n",
    "\n",
    "        self.init_cargos = self.cargos.copy()\n",
    "        self.init_desired_space = self.desired_space.copy()\n",
    "        self.init_world = self.world.copy()\n",
    "\n",
    "    def move_cargo(self, cargo, action):\n",
    "        if action == \"D\":\n",
    "            new_pos = self.cargos[cargo] + np.array([1, 0])\n",
    "        elif action == \"U\":\n",
    "            new_pos = self.cargos[cargo] + np.array([-1, 0])\n",
    "        elif action == \"R\":\n",
    "            new_pos = self.cargos[cargo] + np.array([0, 1])\n",
    "        elif action == \"L\":\n",
    "            new_pos = self.cargos[cargo] + np.array([0, -1])\n",
    "        else:\n",
    "            raise ValueError(\"Action must be one of D, U, R, L\")\n",
    "\n",
    "        if np.any(new_pos < 0) or np.any(\n",
    "            new_pos >= np.array([self.world_h, self.world_w])\n",
    "        ):\n",
    "            raise ValueError(\"New position is out of bounds\")\n",
    "        self.world[self.cargos[cargo][:, 0], self.cargos[cargo][:, 1]] = 0\n",
    "        for y_des, x_des in self.desired_space:\n",
    "            self.world[y_des, x_des] = -1\n",
    "        self.world[new_pos[:, 0], new_pos[:, 1]] = int(cargo)\n",
    "        self.cargos[cargo] = new_pos\n",
    "\n",
    "    def check_move(self, cargo, action):\n",
    "        if action == \"D\":\n",
    "            new_pos = self.cargos[cargo] + np.array([1, 0])\n",
    "        elif action == \"U\":\n",
    "            new_pos = self.cargos[cargo] + np.array([-1, 0])\n",
    "        elif action == \"R\":\n",
    "            new_pos = self.cargos[cargo] + np.array([0, 1])\n",
    "        elif action == \"L\":\n",
    "            new_pos = self.cargos[cargo] + np.array([0, -1])\n",
    "        else:\n",
    "            raise ValueError(\"Action must be one of D, U, R, L\")\n",
    "\n",
    "        if np.any(new_pos < 0) or np.any(\n",
    "            new_pos >= np.array([self.world_h, self.world_w])\n",
    "        ):\n",
    "            return False\n",
    "        return True\n",
    "\n",
    "    def world_visualisation(self):\n",
    "        world = [[0 for _ in range(self.world_w)] for _ in range(self.world_h)]\n",
    "        for space in self.desired_space:\n",
    "            world[space[0]][space[1]] = \"r\"\n",
    "\n",
    "        for key in self.cargos:\n",
    "            for cargo_cell in self.cargos[key]:\n",
    "                world[cargo_cell[0]][cargo_cell[1]] = key\n",
    "\n",
    "        for world_y in range(len(world)):\n",
    "            for world_x in range(len(world[0])):\n",
    "                print(world[world_y][world_x], end=\" \")\n",
    "            print()\n",
    "\n",
    "    def goal_distance(self, cargo):\n",
    "        distances = []\n",
    "        ids = []\n",
    "        points = []\n",
    "        for cargo_y, cargo_x in self.cargos[cargo]:\n",
    "            min_y = 1e8\n",
    "            min_x = 1e8\n",
    "            id_y = -1\n",
    "            id_x = -1\n",
    "            min_cargo_point = (-1, -1)\n",
    "\n",
    "            for des_y, des_x in self.desired_space:\n",
    "                if abs(des_y - cargo_y) + abs(des_x - cargo_x) < min_y + min_x:\n",
    "                    min_y = abs(des_y - cargo_y)\n",
    "                    min_x = abs(des_x - cargo_x)\n",
    "                    id_y = des_y\n",
    "                    id_x = des_x\n",
    "                    min_cargo_point = (cargo_y, cargo_x)\n",
    "            distances.append(min_y + min_x)\n",
    "            ids.append((id_y, id_x))\n",
    "            points.append(min_cargo_point)\n",
    "        min_id = np.argmax(distances)\n",
    "        return distances[min_id], *ids[min_id], *points[min_id]\n",
    "\n",
    "    def reset(self):\n",
    "        self.cargos = self.init_cargos.copy()\n",
    "        self.desired_space = self.init_desired_space.copy()\n",
    "        self.world = self.init_world.copy()\n",
    "\n",
    "    def get_cargo_overlaps(self, cur_cargo):\n",
    "        # total_cells = []\n",
    "        res = 0\n",
    "        for cargo in self.cargos:\n",
    "            if cargo == cur_cargo:\n",
    "                continue\n",
    "            for cell in self.cargos[cargo]:\n",
    "                for cur_cell in self.cargos[cur_cargo]:\n",
    "                    if cell[0] == cur_cell[0] and cell[1] == cur_cell[1]:\n",
    "                        res += 1\n",
    "        #                 total_cells.append(cell)\n",
    "        # total_cells = np.array(total_cells)\n",
    "        # unique, counts = np.unique(total_cells, axis=0, return_counts=True)\n",
    "        # overlaped_cells = np.sum(counts > 1)\n",
    "        return res\n",
    "\n",
    "    def get_cargo_overlaps_with_desired(self, cargo):\n",
    "        ret = 0\n",
    "        for des_cell in self.desired_space:\n",
    "            for cargo_cell in self.cargos[cargo]:\n",
    "                if des_cell[0] == cargo_cell[0] and des_cell[1] == cargo_cell[1]:\n",
    "                    ret += 1\n",
    "        return ret\n",
    "\n",
    "    def is_done(self):\n",
    "        reward = 0\n",
    "        # reward += self.get_cargo_overlaps_with_desired()\n",
    "        for cargo in self.cargos:\n",
    "            reward -= self.get_cargo_overlaps(cargo)\n",
    "            reward += self.get_cargo_overlaps_with_desired(cargo)\n",
    "        cargo_cells = 0\n",
    "        for cargo in self.cargos:\n",
    "            cargo_cells += len(self.cargos[cargo])\n",
    "        return reward == cargo_cells"
   ],
   "metadata": {
    "collapsed": false,
    "pycharm": {
     "name": "#%%\n"
    }
   }
  },
  {
   "cell_type": "code",
   "execution_count": 410,
   "outputs": [],
   "source": [
    "def generate_random_world():\n",
    "    world_h = np.random.randint(5, 20)\n",
    "    world_w = np.random.randint(5, 20)\n",
    "    world = np.zeros((world_h, world_w))\n",
    "    cargo_num = np.random.randint(1, 5)\n",
    "    desired_h = np.random.randint(2, world_h)\n",
    "    desired_w = np.random.randint(2, world_w)\n",
    "    desired_corner_x = np.random.randint(0, world_w - desired_w)\n",
    "    desired_corner_y = np.random.randint(0, world_h - desired_h)\n",
    "    for y_shift in range(desired_h):\n",
    "        for x_shift in range(desired_w):\n",
    "            world[desired_corner_y + y_shift, desired_corner_x + x_shift] = -1\n",
    "    for y_shift in range(1, cargo_num + 1):\n",
    "        cargo_h = np.random.randint(1, world_h)\n",
    "        cargo_w = np.random.randint(1, world_w)\n",
    "        cells = []\n",
    "        initial_cell = np.random.randint(0, world_h - cargo_h), np.random.randint(\n",
    "            0, world_w - cargo_w\n",
    "        )\n",
    "        cells.append(initial_cell)\n",
    "        cells_num = np.random.randint(0, 4)\n",
    "        for x_shift in range(cells_num):\n",
    "            moves = [(0, 1), (0, -1), (1, 0), (-1, 0)]\n",
    "            move = moves[np.random.randint(0, 4)]\n",
    "            new_y, new_x = (cells[x_shift - 1][0] + move[0], cells[x_shift - 1][1] + move[1])\n",
    "            new_cell = (new_y, new_x)\n",
    "            while (\n",
    "                new_cell[0] < 0\n",
    "                or new_cell[0] >= world_h\n",
    "                or new_cell[1] < 0\n",
    "                or new_cell[1] >= world_w\n",
    "            ):\n",
    "                move = moves[np.random.randint(0, 4)]\n",
    "                new_y, new_x = (cells[x_shift - 1][0] + move[0], cells[x_shift - 1][1] + move[1])\n",
    "                new_cell = (new_y, new_x)\n",
    "            cells.append(new_cell)\n",
    "        cells = np.array(cells)\n",
    "        world[cells[:, 0], cells[:, 1]] = y_shift\n",
    "        # print(cells)\n",
    "    return world"
   ],
   "metadata": {
    "collapsed": false,
    "pycharm": {
     "name": "#%%\n"
    }
   }
  },
  {
   "cell_type": "code",
   "execution_count": 411,
   "outputs": [],
   "source": [
    "w = generate_random_world()\n",
    "# write w into file\n",
    "with open(\"world.txt\", \"w\") as f:\n",
    "    for i in range(w.shape[0]):\n",
    "        for j in range(w.shape[1]):\n",
    "            if w[i, j] == -1:\n",
    "                f.write(\"r \")\n",
    "            elif w[i, j] == 0:\n",
    "                f.write(\"0 \")\n",
    "            else:\n",
    "                f.write(str(int(w[i, j])) + \" \")\n",
    "        f.write(\"\\n\")\n",
    "# w"
   ],
   "metadata": {
    "collapsed": false,
    "pycharm": {
     "name": "#%%\n"
    }
   }
  },
  {
   "cell_type": "code",
   "execution_count": 412,
   "outputs": [],
   "source": [
    "# read from input file\n",
    "file = open(\"input.txt\", \"r\")\n",
    "world_map = []\n",
    "for line in file:\n",
    "    line = line.strip()\n",
    "    line = line.split()\n",
    "    world_map.append(line)\n",
    "file.close()\n",
    "env = Environment(world_map)"
   ],
   "metadata": {
    "collapsed": false,
    "pycharm": {
     "name": "#%%\n"
    }
   }
  },
  {
   "cell_type": "code",
   "execution_count": 413,
   "outputs": [
    {
     "name": "stdout",
     "output_type": "stream",
     "text": [
      "0 0 0 0 0 0 \n",
      "0 0 0 2 0 3 \n",
      "0 1 0 0 0 0 \n",
      "0 0 0 r r 0 \n",
      "0 6 0 r r 0 \n",
      "0 0 0 r r 5 \n"
     ]
    }
   ],
   "source": [
    "env.world_visualisation()"
   ],
   "metadata": {
    "collapsed": false,
    "pycharm": {
     "name": "#%%\n"
    }
   }
  },
  {
   "cell_type": "code",
   "execution_count": 414,
   "outputs": [],
   "source": [
    "class DQN(nn.Module):\n",
    "    def __init__(self, output_size):\n",
    "        super(DQN, self).__init__()\n",
    "        self.conv1 = nn.Conv2d(1, 16, kernel_size=3, stride=1, padding=1)\n",
    "        self.conv2 = nn.Conv2d(16, 32, kernel_size=3, stride=1, padding=1)\n",
    "        self.conv3 = nn.Conv2d(32, 64, kernel_size=3, stride=1, padding=1)\n",
    "        self.global_pool = nn.AdaptiveAvgPool2d((1, 1))\n",
    "        self.fc1 = nn.Linear(64, 64)\n",
    "        self.fc2 = nn.Linear(64, output_size)\n",
    "\n",
    "    def forward(self, x):\n",
    "        x = F.relu(self.conv1(x))\n",
    "        x = F.relu(self.conv2(x))\n",
    "        x = F.relu(self.conv3(x))\n",
    "        x = self.global_pool(x)\n",
    "        x = x.view(x.size(0), -1)\n",
    "        x = F.relu(self.fc1(x))\n",
    "        x = self.fc2(x)\n",
    "        return x"
   ],
   "metadata": {
    "collapsed": false,
    "pycharm": {
     "name": "#%%\n"
    }
   }
  },
  {
   "cell_type": "code",
   "execution_count": 415,
   "outputs": [],
   "source": [
    "Transition = namedtuple(\"Transition\", (\"state\", \"action\", \"next_state\", \"reward\"))\n",
    "\n",
    "\n",
    "class ReplayMemory(object):\n",
    "    def __init__(self, capacity):\n",
    "        self.memory = deque([], maxlen=capacity)\n",
    "\n",
    "    def push(self, *args):\n",
    "        \"\"\"Save a transition\"\"\"\n",
    "        self.memory.append(Transition(*args))\n",
    "\n",
    "    def sample(self, batch_size):\n",
    "        return random.sample(self.memory, batch_size)\n",
    "\n",
    "    def __len__(self):\n",
    "        return len(self.memory)"
   ],
   "metadata": {
    "collapsed": false,
    "pycharm": {
     "name": "#%%\n"
    }
   }
  },
  {
   "cell_type": "code",
   "execution_count": 416,
   "outputs": [],
   "source": [
    "device = torch.device(\"cuda\" if torch.cuda.is_available() else \"cpu\")"
   ],
   "metadata": {
    "collapsed": false,
    "pycharm": {
     "name": "#%%\n"
    }
   }
  },
  {
   "cell_type": "code",
   "execution_count": 417,
   "outputs": [],
   "source": [
    "BATCH_SIZE = 128\n",
    "GAMMA = 0.999\n",
    "EPS_START = 0.5\n",
    "EPS_END = 0.05\n",
    "EPS_DECAY = 500\n",
    "TARGET_UPDATE = 10\n",
    "\n",
    "n_actions = 4\n",
    "\n",
    "policy_net = DQN(n_actions).to(device)\n",
    "target_net = DQN(n_actions).to(device)"
   ],
   "metadata": {
    "collapsed": false,
    "pycharm": {
     "name": "#%%\n"
    }
   }
  },
  {
   "cell_type": "code",
   "execution_count": 418,
   "outputs": [],
   "source": [
    "steps_done = 0\n",
    "\n",
    "\n",
    "def select_action(state):\n",
    "    global steps_done\n",
    "    sample = np.random.random()\n",
    "    eps_threshold = EPS_END + (EPS_START - EPS_END) * np.exp(\n",
    "        -1.0 * steps_done / EPS_DECAY\n",
    "    )\n",
    "    steps_done += 1\n",
    "    if sample > eps_threshold:\n",
    "        # print(\"policy\")\n",
    "        with torch.no_grad():\n",
    "            return (policy_net(state.to(device)).max(1)[1].view(1, 1)).to(\"cpu\")\n",
    "\n",
    "    else:\n",
    "        # print(\"random\")\n",
    "        return torch.tensor([[random.randrange(n_actions)]], dtype=torch.long)"
   ],
   "metadata": {
    "collapsed": false,
    "pycharm": {
     "name": "#%%\n"
    }
   }
  },
  {
   "cell_type": "code",
   "execution_count": 419,
   "outputs": [],
   "source": [
    "def get_state(environment, cargo=None):\n",
    "    state = environment.world\n",
    "    state = np.array(state)\n",
    "    if cargo is not None:\n",
    "        for other_cargo in environment.cargos:\n",
    "            if other_cargo != cargo:\n",
    "                state[environment.cargos[other_cargo][:, 0], environment.cargos[other_cargo][:, 1]] = -2\n",
    "    state = state.reshape(1, 1, environment.world_h, environment.world_w)\n",
    "    state = torch.from_numpy(state)\n",
    "    state = state.float()\n",
    "    return state\n",
    "\n",
    "\n",
    "def get_reward(environment, possible, cargo, diff):\n",
    "    reward = 0\n",
    "    reward += environment.get_cargo_overlaps_with_desired(cargo)\n",
    "    reward += diff\n",
    "    reward -= environment.get_cargo_overlaps(cargo)\n",
    "    reward -= 1\n",
    "    if not possible:\n",
    "        reward = -10\n",
    "    return torch.tensor([reward], dtype=torch.float)"
   ],
   "metadata": {
    "collapsed": false,
    "pycharm": {
     "name": "#%%\n"
    }
   }
  },
  {
   "cell_type": "code",
   "execution_count": 420,
   "outputs": [],
   "source": [
    "def get_cargo_state(state, cargo):\n",
    "    state = state.detach().numpy()\n",
    "    state = state.reshape(env.world_h, env.world_w)\n",
    "    # print(state)\n",
    "    for other_cargo in env.cargos:\n",
    "        if other_cargo != cargo:\n",
    "            state[env.cargos[other_cargo][:, 0], env.cargos[other_cargo][:, 1]] = -2\n",
    "        else:\n",
    "            state[env.cargos[other_cargo][:, 0], env.cargos[other_cargo][:, 1]] = 1\n",
    "    new_state = state.reshape(1, 1, env.world_h, env.world_w)\n",
    "    new_state = torch.from_numpy(new_state)\n",
    "    new_state = new_state.float()\n",
    "    return new_state"
   ],
   "metadata": {
    "collapsed": false,
    "pycharm": {
     "name": "#%%\n"
    }
   }
  },
  {
   "cell_type": "code",
   "execution_count": 421,
   "outputs": [],
   "source": [
    "memory = ReplayMemory(10000)\n",
    "optimizer = optim.Adam(policy_net.parameters())\n",
    "\n",
    "\n",
    "def optimize_model():\n",
    "    if len(memory) < BATCH_SIZE:\n",
    "        return\n",
    "    transitions = memory.sample(BATCH_SIZE)\n",
    "    batch = Transition(*zip(*transitions))\n",
    "\n",
    "    non_final_mask = torch.tensor(\n",
    "        tuple(map(lambda s: s is not None, batch.next_state)), dtype=torch.bool\n",
    "    )\n",
    "    non_final_next_states = torch.cat([s for s in batch.next_state if s is not None])\n",
    "\n",
    "    state_batch = torch.cat(batch.state).to(device)\n",
    "    action_batch = torch.cat(batch.action).to(device)\n",
    "    reward_batch = torch.cat(batch.reward).to(device)\n",
    "\n",
    "    state_action_values = policy_net(state_batch).gather(1, action_batch)\n",
    "\n",
    "    next_state_values = torch.zeros(BATCH_SIZE).to(device)\n",
    "    next_state_values[non_final_mask] = (\n",
    "        target_net(non_final_next_states.to(device)).max(1)[0].detach()\n",
    "    )\n",
    "\n",
    "    expected_state_action_values = (next_state_values * GAMMA) + reward_batch\n",
    "\n",
    "    loss = F.smooth_l1_loss(\n",
    "        state_action_values, expected_state_action_values.unsqueeze(1)\n",
    "    )\n",
    "\n",
    "    optimizer.zero_grad()\n",
    "    loss.backward()\n",
    "    for param in policy_net.parameters():\n",
    "        param.grad.data.clamp_(-1, 1)\n",
    "    optimizer.step()"
   ],
   "metadata": {
    "collapsed": false,
    "pycharm": {
     "name": "#%%\n"
    }
   }
  },
  {
   "cell_type": "code",
   "execution_count": 422,
   "outputs": [],
   "source": [
    "def get_cargo_cells(environment):\n",
    "    cells = 0\n",
    "    for cargo in environment.cargos:\n",
    "        cells += len(environment.cargos[cargo])\n",
    "    return cells"
   ],
   "metadata": {
    "collapsed": false,
    "pycharm": {
     "name": "#%%\n"
    }
   }
  },
  {
   "cell_type": "code",
   "execution_count": 423,
   "outputs": [
    {
     "data": {
      "text/plain": "180"
     },
     "execution_count": 423,
     "metadata": {},
     "output_type": "execute_result"
    }
   ],
   "source": [
    "actions_list = [\"D\", \"U\", \"R\", \"L\"]\n",
    "MAX_STEPS = env.world_h * env.world_w * len(env.cargos)\n",
    "MAX_STEPS"
   ],
   "metadata": {
    "collapsed": false,
    "pycharm": {
     "name": "#%%\n"
    }
   }
  },
  {
   "cell_type": "code",
   "execution_count": 424,
   "outputs": [],
   "source": [
    "def get_random_env():\n",
    "    random_world_map = generate_random_world()\n",
    "    random_world_map = random_world_map.tolist()\n",
    "    for map_line in random_world_map:\n",
    "        for elem in map_line:\n",
    "            if elem == -1:\n",
    "                random_world_map[random_world_map.index(map_line)][map_line.index(elem)] = \"r\"\n",
    "            else:\n",
    "                random_world_map[random_world_map.index(map_line)][map_line.index(elem)] = str(\n",
    "                    int(elem)\n",
    "                )\n",
    "    random_env = Environment(random_world_map)\n",
    "    return random_env\n",
    "\n",
    "\n",
    "r_env = get_random_env()"
   ],
   "metadata": {
    "collapsed": false,
    "pycharm": {
     "name": "#%%\n"
    }
   }
  },
  {
   "cell_type": "code",
   "execution_count": 425,
   "outputs": [],
   "source": [
    "# for cargo, coords in env.cargos.items():\n",
    "#     print(coords[0])"
   ],
   "metadata": {
    "collapsed": false,
    "pycharm": {
     "name": "#%%\n"
    }
   }
  },
  {
   "cell_type": "code",
   "execution_count": 426,
   "outputs": [],
   "source": [
    "def read_env(input_path):\n",
    "    global MAX_STEPS\n",
    "    file = open(input_path, \"r\")\n",
    "    world_map = []\n",
    "    for line in file:\n",
    "        line = line.strip()\n",
    "        line = line.split()\n",
    "        world_map.append(line)\n",
    "    file.close()\n",
    "    env = Environment(world_map)\n",
    "    MAX_STEPS = env.world_h * env.world_w * len(env.cargos)\n",
    "    return env"
   ],
   "metadata": {
    "collapsed": false,
    "pycharm": {
     "name": "#%%\n"
    }
   }
  },
  {
   "cell_type": "code",
   "execution_count": 427,
   "outputs": [],
   "source": [
    "test_paths = ['testing/1.txt', 'testing/2.txt', 'testing/3.txt', 'testing/4.txt', 'testing/5.txt', 'testing/6.txt', 'testing/7.txt']\n",
    "# env = read_env(test_paths[6])\n",
    "# env.world_visualisation()\n",
    "# dict with keys test_paths[i] and values 0\n",
    "results_per_value = {test_paths[i]: (0,0) for i in range(len(test_paths))}"
   ],
   "metadata": {
    "collapsed": false,
    "pycharm": {
     "name": "#%%\n"
    }
   }
  },
  {
   "cell_type": "code",
   "execution_count": 428,
   "outputs": [],
   "source": [
    "from IPython.core.display_functions import clear_output\n",
    "\n",
    "total_train_rewards = []\n",
    "episode_results = []\n",
    "results = {\"failed\": 0, \"success\": 0}\n",
    "# steps_done = 0\n",
    "\n",
    "\n",
    "def train(n_episodes=1000):\n",
    "    global env\n",
    "    for i_episode in range(n_episodes):\n",
    "        episode_env_path = np.random.choice(test_paths)\n",
    "        env = read_env(episode_env_path)\n",
    "        # env.reset()\n",
    "        init_cargo_pos = env.cargos.copy()\n",
    "        state = get_state(env)\n",
    "        cargo_paths = dict()\n",
    "        episode_reward_sum = 0\n",
    "        steps = 0\n",
    "        illegal_moves = 0\n",
    "        cargo_cell_visits = dict()\n",
    "        for cargo in env.cargos:\n",
    "            cargo_cell_visits[cargo] = np.ones((env.world_h, env.world_w))\n",
    "        while True:\n",
    "\n",
    "            if steps > MAX_STEPS:\n",
    "                results[\"failed\"] += 1\n",
    "                results_per_value[episode_env_path] = (results_per_value[episode_env_path][0] + 1, results_per_value[episode_env_path][1])\n",
    "                break\n",
    "\n",
    "            for cargo in env.cargos.keys():\n",
    "\n",
    "                # cell = env.cargos[cargo][0]\n",
    "                # cargo_cell_visits[cargo][cell[0], cell[1]] -= 1\n",
    "\n",
    "                steps += 1\n",
    "                cargo_state = get_cargo_state(state, cargo)\n",
    "                action = select_action(cargo_state)\n",
    "                is_possible_move = env.check_move(cargo, actions_list[action])\n",
    "\n",
    "                before_overlap = env.get_cargo_overlaps(cargo)\n",
    "\n",
    "                if not cargo_paths.get(cargo):\n",
    "                    cargo_paths[cargo] = []\n",
    "\n",
    "                cargo_paths[cargo].append(actions_list[action])\n",
    "                if is_possible_move:\n",
    "                    env.move_cargo(cargo, actions_list[action])\n",
    "                else:\n",
    "                    illegal_moves += 1\n",
    "\n",
    "                after_overlap = env.get_cargo_overlaps(cargo)\n",
    "                diff = after_overlap - before_overlap\n",
    "\n",
    "                reward = get_reward(env, is_possible_move, cargo, diff)\n",
    "\n",
    "                # reward += (cargo_cell_visits[cargo])[cell[0], cell[1]]\n",
    "\n",
    "\n",
    "                if env.is_done():\n",
    "                    # pass\n",
    "                    reward += env.world_h * env.world_w  * get_cargo_cells(env)\n",
    "\n",
    "                next_state = get_state(env)\n",
    "                memory.push(state, action, next_state, reward)\n",
    "                state = next_state\n",
    "                optimize_model()\n",
    "                episode_reward_sum += reward.item()\n",
    "                # cargo_paths.append(path)\n",
    "                if env.is_done():\n",
    "                    break\n",
    "\n",
    "            if env.is_done():\n",
    "                results[\"success\"] += 1\n",
    "                results_per_value[episode_env_path] = (results_per_value[episode_env_path][0], results_per_value[episode_env_path][1] + 1)\n",
    "                break\n",
    "        if i_episode % TARGET_UPDATE == 0:\n",
    "            target_net.load_state_dict(policy_net.state_dict())\n",
    "\n",
    "        print(\"Episode: {}, Reward: {}\".format(i_episode, episode_reward_sum))\n",
    "        total_train_rewards.append(episode_reward_sum)\n",
    "        episode_results.append(env.is_done())\n",
    "        print(\"Is done: {}\".format(env.is_done()))\n",
    "        print(\"Cargo positions: \")\n",
    "        for cargo in env.cargos.keys():\n",
    "            print(cargo, end=\": \")\n",
    "            for pos in env.cargos[cargo]:\n",
    "                print(pos, end=\" \")\n",
    "            print()\n",
    "        print(\"Initial cargo positions: \")\n",
    "        for cargo in init_cargo_pos.keys():\n",
    "            print(cargo, end=\": \")\n",
    "            for pos in init_cargo_pos[cargo]:\n",
    "                print(pos, end=\" \")\n",
    "            print()\n",
    "        print(f\"steps performed: {steps}\")\n",
    "        print(f\"illegal moves: {illegal_moves}\")\n",
    "        print(\"-\" * 40)\n",
    "        # clear output\n",
    "        clear_output(wait=True)"
   ],
   "metadata": {
    "collapsed": false,
    "pycharm": {
     "name": "#%%\n"
    }
   }
  },
  {
   "cell_type": "code",
   "execution_count": 429,
   "outputs": [
    {
     "name": "stdout",
     "output_type": "stream",
     "text": [
      "Episode: 699, Reward: -154.0\n",
      "Is done: False\n",
      "Cargo positions: \n",
      "2: [3 1] [3 2] \n",
      "1: [4 0] [4 1] \n",
      "Initial cargo positions: \n",
      "2: [0 2] [0 3] \n",
      "1: [4 1] [4 2] \n",
      "steps performed: 74\n",
      "illegal moves: 13\n",
      "----------------------------------------\n"
     ]
    }
   ],
   "source": [
    "train(700)"
   ],
   "metadata": {
    "collapsed": false,
    "pycharm": {
     "name": "#%%\n"
    }
   }
  },
  {
   "cell_type": "code",
   "execution_count": 430,
   "outputs": [
    {
     "data": {
      "text/plain": "{'testing/1.txt': (104, 4),\n 'testing/2.txt': (14, 94),\n 'testing/3.txt': (29, 66),\n 'testing/4.txt': (35, 53),\n 'testing/5.txt': (61, 34),\n 'testing/6.txt': (19, 82),\n 'testing/7.txt': (65, 40)}"
     },
     "execution_count": 430,
     "metadata": {},
     "output_type": "execute_result"
    }
   ],
   "source": [
    "results_per_value"
   ],
   "metadata": {
    "collapsed": false,
    "pycharm": {
     "name": "#%%\n"
    }
   }
  },
  {
   "cell_type": "code",
   "execution_count": 431,
   "outputs": [
    {
     "data": {
      "text/plain": "{'failed': 327, 'success': 373}"
     },
     "execution_count": 431,
     "metadata": {},
     "output_type": "execute_result"
    }
   ],
   "source": [
    "results"
   ],
   "metadata": {
    "collapsed": false,
    "pycharm": {
     "name": "#%%\n"
    }
   }
  },
  {
   "cell_type": "code",
   "execution_count": 432,
   "outputs": [
    {
     "name": "stderr",
     "output_type": "stream",
     "text": [
      "<__array_function__ internals>:180: RuntimeWarning: Converting input from bool to <class 'numpy.uint8'> for compatibility.\n"
     ]
    },
    {
     "data": {
      "text/plain": "<Figure size 640x480 with 1 Axes>",
      "image/png": "[encoded data removed]"
     },
     "metadata": {},
     "output_type": "display_data"
    }
   ],
   "source": [
    "# compare failed and success\n",
    "sns.histplot(episode_results)\n",
    "plt.title(\"Success and failed episodes\")\n",
    "plt.show()"
   ],
   "metadata": {
    "collapsed": false,
    "pycharm": {
     "name": "#%%\n"
    }
   }
  },
  {
   "cell_type": "code",
   "execution_count": 433,
   "outputs": [
    {
     "data": {
      "text/plain": "<Figure size 640x480 with 1 Axes>",
      "image/png": "[encoded data removed]"
     },
     "metadata": {},
     "output_type": "display_data"
    }
   ],
   "source": [
    "sns.lineplot(x=range(len(total_train_rewards)), y=total_train_rewards)\n",
    "plt.title(\"Total rewards\")\n",
    "plt.xlabel(\"Episode\")\n",
    "plt.ylabel(\"Reward\")\n",
    "plt.show()"
   ],
   "metadata": {
    "collapsed": false,
    "pycharm": {
     "name": "#%%\n"
    }
   }
  },
  {
   "cell_type": "code",
   "execution_count": 447,
   "outputs": [],
   "source": [
    "def test(n_episodes=1):\n",
    "    global env\n",
    "    for _ in range(n_episodes):\n",
    "        env.reset()\n",
    "        state = get_state(env)\n",
    "        cargo_paths = dict()\n",
    "        episode_reward_sum = 0\n",
    "        steps = 0\n",
    "        total_test_reward = 0\n",
    "\n",
    "        # cargo_cells_visited = dict()\n",
    "        # for cargo in env.cargos:\n",
    "        #     cargo_cells_visited[cargo] = np.ones((env.world_h, env.world_w))\n",
    "        while True:\n",
    "\n",
    "            if steps > MAX_STEPS:\n",
    "                break\n",
    "\n",
    "            for cargo in env.cargos.keys():\n",
    "\n",
    "                cell = env.cargos[cargo][0]\n",
    "                # cargo_cells_visited[cargo][cell[0], cell[1]] -= 1\n",
    "\n",
    "                steps += 1\n",
    "                cargo_state = get_cargo_state(state, cargo)\n",
    "                action = (\n",
    "                    policy_net(cargo_state.to(device)).max(1)[1].view(1, 1).to(\"cpu\")\n",
    "                )\n",
    "                is_possible_move = env.check_move(cargo, actions_list[action])\n",
    "\n",
    "                before_overlap = env.get_cargo_overlaps(cargo)\n",
    "\n",
    "                if not cargo_paths.get(cargo):\n",
    "                    cargo_paths[cargo] = []\n",
    "\n",
    "                cargo_paths[cargo].append(actions_list[action])\n",
    "                if is_possible_move:\n",
    "                    env.move_cargo(cargo, actions_list[action])\n",
    "                else:\n",
    "                    pass\n",
    "\n",
    "                after_overlap = env.get_cargo_overlaps(cargo)\n",
    "                diff = after_overlap - before_overlap\n",
    "\n",
    "                reward = get_reward(env, is_possible_move, cargo, diff)\n",
    "                # reward += (cargo_cells_visited[cargo])[cell[0], cell[1]]\n",
    "                # if env.is_done():\n",
    "                #     reward += env.world_h * env.world_w * get_cargo_cells(env)\n",
    "\n",
    "                episode_reward_sum += reward.item()\n",
    "                total_test_reward += reward.item()\n",
    "                next_state = get_state(env)\n",
    "                state = next_state\n",
    "                if env.is_done():\n",
    "                    break\n",
    "            if env.is_done():\n",
    "                break\n",
    "        total_train_rewards.append(episode_reward_sum)\n",
    "        episode_results.append(env.is_done())\n",
    "        print(\"Is done: {}\".format(env.is_done()))\n",
    "        print(\"Reward: {}\".format(total_test_reward))\n",
    "        print(\"Cargo positions: \")\n",
    "        for cargo in env.cargos.keys():\n",
    "            print(cargo, end=\": \")\n",
    "            for pos in env.cargos[cargo]:\n",
    "                print(pos, end=\" \")\n",
    "            print()\n",
    "        print(f\"steps performed: {steps}\")\n",
    "        print(f\"cargo paths: {cargo_paths}\")\n",
    "        env.world_visualisation()\n",
    "        print(\"-\" * 40)\n",
    "        return cargo_paths"
   ],
   "metadata": {
    "collapsed": false,
    "pycharm": {
     "name": "#%%\n"
    }
   }
  },
  {
   "cell_type": "code",
   "execution_count": 448,
   "outputs": [
    {
     "name": "stdout",
     "output_type": "stream",
     "text": [
      "Is done: True\n",
      "Reward: -1.0\n",
      "Cargo positions: \n",
      "1: [0 4] [1 4] \n",
      "steps performed: 3\n",
      "cargo paths: {'1': ['R', 'R', 'R']}\n",
      "0 0 0 0 1 0 \n",
      "0 0 0 0 1 0 \n",
      "----------------------------------------\n"
     ]
    }
   ],
   "source": [
    "paths = test()"
   ],
   "metadata": {
    "collapsed": false,
    "pycharm": {
     "name": "#%%\n"
    }
   }
  },
  {
   "cell_type": "code",
   "execution_count": 449,
   "outputs": [
    {
     "name": "stdout",
     "output_type": "stream",
     "text": [
      "testing/1.txt\n",
      "0 0 0 2 0 0 \n",
      "0 0 0 2 0 0 \n",
      "0 1 0 0 0 r \n",
      "0 1 0 0 0 r \n",
      "0 0 0 0 0 r \n",
      "0 0 0 0 0 r \n",
      "Is done: False\n",
      "Reward: -5.0\n",
      "Cargo positions: \n",
      "2: [3 5] [4 5] \n",
      "1: [0 0] [1 0] \n",
      "steps performed: 74\n",
      "cargo paths: {'2': ['D', 'R', 'R', 'D', 'D', 'D', 'U', 'D', 'U', 'D', 'U', 'D', 'U', 'D', 'U', 'D', 'U', 'D', 'U', 'D', 'U', 'D', 'U', 'D', 'U', 'D', 'U', 'D', 'U', 'D', 'U', 'D', 'U', 'D', 'U', 'D', 'U'], '1': ['L', 'R', 'U', 'L', 'U', 'D', 'U', 'D', 'U', 'D', 'U', 'D', 'U', 'D', 'U', 'D', 'U', 'D', 'U', 'D', 'U', 'D', 'U', 'D', 'U', 'D', 'U', 'D', 'U', 'D', 'U', 'D', 'U', 'D', 'U', 'D', 'U']}\n",
      "1 0 0 0 0 0 \n",
      "1 0 0 0 0 0 \n",
      "0 0 0 0 0 r \n",
      "0 0 0 0 0 2 \n",
      "0 0 0 0 0 2 \n",
      "0 0 0 0 0 r \n",
      "----------------------------------------\n",
      "testing/2.txt\n",
      "0 0 2 2 0 0 \n",
      "0 0 0 0 0 0 \n",
      "0 0 r r 0 0 \n",
      "0 0 r r 0 0 \n",
      "0 1 1 0 0 0 \n",
      "0 0 0 0 0 0 \n",
      "Is done: True\n",
      "Reward: 1.0\n",
      "Cargo positions: \n",
      "2: [2 2] [2 3] \n",
      "1: [3 2] [3 3] \n",
      "steps performed: 4\n",
      "cargo paths: {'2': ['D', 'D'], '1': ['U', 'R']}\n",
      "0 0 0 0 0 0 \n",
      "0 0 0 0 0 0 \n",
      "0 0 2 2 0 0 \n",
      "0 0 1 1 0 0 \n",
      "0 0 0 0 0 0 \n",
      "0 0 0 0 0 0 \n",
      "----------------------------------------\n",
      "testing/3.txt\n",
      "0 0 2 2 0 0 \n",
      "0 0 0 2 0 0 \n",
      "0 1 0 0 0 0 \n",
      "0 0 0 r r 0 \n",
      "0 0 0 r r 0 \n",
      "0 0 0 0 0 0 \n",
      "Is done: True\n",
      "Reward: -2.0\n",
      "Cargo positions: \n",
      "2: [3 3] [3 4] [4 4] \n",
      "1: [4 3] \n",
      "steps performed: 8\n",
      "cargo paths: {'2': ['D', 'D', 'R', 'D'], '1': ['D', 'R', 'R', 'D']}\n",
      "0 0 0 0 0 0 \n",
      "0 0 0 0 0 0 \n",
      "0 0 0 0 0 0 \n",
      "0 0 0 2 2 0 \n",
      "0 0 0 1 2 0 \n",
      "0 0 0 0 0 0 \n",
      "----------------------------------------\n",
      "testing/4.txt\n",
      "0 0 2 2 0 0 \n",
      "0 0 0 2 0 3 \n",
      "0 1 0 0 0 3 \n",
      "0 0 r r r 0 \n",
      "0 0 r r r 0 \n",
      "0 0 0 0 0 0 \n",
      "Is done: True\n",
      "Reward: -4.0\n",
      "Cargo positions: \n",
      "2: [3 2] [3 3] [4 3] \n",
      "3: [3 4] [4 4] \n",
      "1: [4 2] \n",
      "steps performed: 15\n",
      "cargo paths: {'2': ['D', 'D', 'D', 'U', 'D'], '3': ['L', 'D', 'L', 'R', 'D'], '1': ['L', 'D', 'R', 'R', 'D']}\n",
      "0 0 0 0 0 0 \n",
      "0 0 0 0 0 0 \n",
      "0 0 0 0 0 0 \n",
      "0 0 2 2 3 0 \n",
      "0 0 1 2 3 0 \n",
      "0 0 0 0 0 0 \n",
      "----------------------------------------\n",
      "testing/5.txt\n",
      "0 0 2 2 0 0 \n",
      "0 0 0 2 0 0 \n",
      "0 1 0 0 0 0 \n",
      "0 0 0 r r 0 \n",
      "0 0 0 r r 0 \n",
      "3 3 0 r r 0 \n",
      "Is done: False\n",
      "Reward: 9.0\n",
      "Cargo positions: \n",
      "2: [3 4] [3 5] [4 5] \n",
      "1: [5 3] \n",
      "3: [4 2] [4 3] \n",
      "steps performed: 111\n",
      "cargo paths: {'2': ['R', 'D', 'D', 'D', 'U', 'D', 'R', 'L', 'R', 'L', 'R', 'L', 'R', 'L', 'R', 'L', 'R', 'L', 'R', 'L', 'R', 'L', 'R', 'L', 'R', 'L', 'R', 'L', 'R', 'L', 'R', 'L', 'R', 'L', 'R', 'L', 'R'], '1': ['R', 'R', 'D', 'D', 'R', 'D', 'L', 'R', 'L', 'R', 'L', 'R', 'L', 'R', 'L', 'R', 'L', 'R', 'L', 'R', 'L', 'R', 'L', 'R', 'L', 'R', 'L', 'R', 'L', 'R', 'L', 'R', 'L', 'R', 'L', 'R', 'L'], '3': ['R', 'R', 'U', 'D', 'U', 'D', 'U', 'D', 'U', 'D', 'U', 'D', 'U', 'D', 'U', 'D', 'U', 'D', 'U', 'D', 'U', 'D', 'U', 'D', 'U', 'D', 'U', 'D', 'U', 'D', 'U', 'D', 'U', 'D', 'U', 'D', 'U']}\n",
      "0 0 0 0 0 0 \n",
      "0 0 0 0 0 0 \n",
      "0 0 0 0 0 0 \n",
      "0 0 0 r 2 2 \n",
      "0 0 3 3 r 2 \n",
      "0 0 0 1 r 0 \n",
      "----------------------------------------\n",
      "testing/6.txt\n",
      "0 0 0 2 2 2 \n",
      "r r r 2 0 2 \n",
      "r r r 0 0 0 \n",
      "r r r 0 0 0 \n",
      "0 0 1 0 0 0 \n",
      "0 1 1 1 0 0 \n",
      "Is done: True\n",
      "Reward: 8.0\n",
      "Cargo positions: \n",
      "2: [1 0] [1 1] [1 2] [2 0] [2 2] \n",
      "1: [2 1] [3 0] [3 1] [3 2] \n",
      "steps performed: 7\n",
      "cargo paths: {'2': ['D', 'L', 'L', 'L'], '1': ['U', 'L', 'U']}\n",
      "0 0 0 0 0 0 \n",
      "2 2 2 0 0 0 \n",
      "2 1 2 0 0 0 \n",
      "1 1 1 0 0 0 \n",
      "0 0 0 0 0 0 \n",
      "0 0 0 0 0 0 \n",
      "----------------------------------------\n",
      "testing/7.txt\n",
      "0 0 0 0 0 0 \n",
      "0 0 0 2 0 3 \n",
      "0 1 0 0 0 0 \n",
      "0 0 0 r r 4 \n",
      "0 6 0 r r 0 \n",
      "0 0 0 r r 5 \n",
      "Is done: True\n",
      "Reward: -107.0\n",
      "Cargo positions: \n",
      "2: [5 4] \n",
      "3: [4 3] \n",
      "1: [5 3] \n",
      "4: [3 4] \n",
      "6: [4 4] \n",
      "5: [3 3] \n",
      "steps performed: 137\n",
      "cargo paths: {'2': ['D', 'D', 'L', 'R', 'L', 'R', 'D', 'R', 'R', 'L', 'L', 'R', 'L', 'L', 'R', 'D', 'R', 'U', 'L', 'D', 'R', 'U', 'D'], '3': ['D', 'U', 'D', 'L', 'D', 'L', 'D', 'R', 'L', 'R', 'L', 'R', 'U', 'L', 'D', 'D', 'U', 'L', 'U', 'D', 'L', 'R', 'R'], '1': ['D', 'L', 'R', 'R', 'D', 'R', 'R', 'U', 'R', 'U', 'L', 'R', 'L', 'D', 'L', 'R', 'R', 'L', 'D', 'L', 'U', 'D', 'D'], '4': ['U', 'L', 'D', 'L', 'D', 'D', 'L', 'R', 'L', 'U', 'L', 'R', 'R', 'R', 'L', 'R', 'L', 'L', 'R', 'L', 'R', 'R', 'U'], '6': ['R', 'R', 'R', 'L', 'R', 'D', 'L', 'L', 'L', 'L', 'U', 'R', 'R', 'R', 'D', 'L', 'R', 'R', 'U', 'L', 'D', 'R', 'U'], '5': ['L', 'L', 'U', 'R', 'U', 'D', 'U', 'R', 'U', 'L', 'R', 'L', 'D', 'D', 'D', 'U', 'L', 'D', 'U', 'R', 'U', 'L']}\n",
      "0 0 0 0 0 0 \n",
      "0 0 0 0 0 0 \n",
      "0 0 0 0 0 0 \n",
      "0 0 0 5 4 0 \n",
      "0 0 0 3 6 0 \n",
      "0 0 0 1 2 0 \n",
      "----------------------------------------\n"
     ]
    }
   ],
   "source": [
    "for path in test_paths:\n",
    "    print(path)\n",
    "    env = read_env(path)\n",
    "    env.world_visualisation()\n",
    "    test()"
   ],
   "metadata": {
    "collapsed": false,
    "pycharm": {
     "name": "#%%\n"
    }
   }
  },
  {
   "cell_type": "code",
   "execution_count": 437,
   "outputs": [],
   "source": [
    "# save policy net\n",
    "torch.save(policy_net.state_dict(), \"policy_net.pth\")\n",
    "torch.save(target_net.state_dict(), \"target_net.pth\")"
   ],
   "metadata": {
    "collapsed": false,
    "pycharm": {
     "name": "#%%\n"
    }
   }
  },
  {
   "cell_type": "code",
   "execution_count": 446,
   "outputs": [
    {
     "name": "stdout",
     "output_type": "stream",
     "text": [
      "0 1 0 0 r 0 \n",
      "0 1 0 0 r 0 \n",
      "Is done: True\n",
      "Reward: 23.0\n",
      "Cargo positions: \n",
      "1: [0 4] [1 4] \n",
      "steps performed: 3\n",
      "cargo paths: {'1': ['R', 'R', 'R']}\n",
      "0 0 0 0 1 0 \n",
      "0 0 0 0 1 0 \n",
      "----------------------------------------\n"
     ]
    },
    {
     "data": {
      "text/plain": "{'1': ['R', 'R', 'R']}"
     },
     "execution_count": 446,
     "metadata": {},
     "output_type": "execute_result"
    }
   ],
   "source": [
    "env = read_env('input.txt')\n",
    "env.world_visualisation()\n",
    "test()"
   ],
   "metadata": {
    "collapsed": false,
    "pycharm": {
     "name": "#%%\n"
    }
   }
  }
 ],
 "metadata": {
  "kernelspec": {
   "display_name": "Python 3",
   "language": "python",
   "name": "python3"
  },
  "language_info": {
   "codemirror_mode": {
    "name": "ipython",
    "version": 2
   },
   "file_extension": ".py",
   "mimetype": "text/x-python",
   "name": "python",
   "nbconvert_exporter": "python",
   "pygments_lexer": "ipython2",
   "version": "2.7.6"
  }
 },
 "nbformat": 4,
 "nbformat_minor": 0
}