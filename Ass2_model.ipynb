{
 "cells": [
  {
   "cell_type": "code",
   "execution_count": 225,
   "outputs": [],
   "source": [
    "import pandas as pd\n",
    "import torch\n",
    "import torch.nn as nn\n",
    "import torch.nn.functional as F\n",
    "import torch.optim as optim\n",
    "import numpy as np\n",
    "import matplotlib.pyplot as plt\n",
    "from collections import namedtuple, deque\n",
    "import random\n",
    "import seaborn as sns"
   ],
   "metadata": {
    "collapsed": false,
    "pycharm": {
     "name": "#%%\n"
    }
   }
  },
  {
   "cell_type": "code",
   "execution_count": 226,
   "outputs": [],
   "source": [
    "class Environment:\n",
    "    def __init__(self, world_map):\n",
    "        self.world_h = len(world_map)\n",
    "        self.world_w = len(world_map[0])\n",
    "        self.cargos = dict()\n",
    "        self.desired_space = []\n",
    "        # change r in a world map to -1\n",
    "        modified_world = []\n",
    "        for row in world_map:\n",
    "            modified_row = []\n",
    "            for c in row:\n",
    "                if c == \"r\":\n",
    "                    modified_row.append(-1)\n",
    "                else:\n",
    "                    modified_row.append(int(c))\n",
    "            modified_world.append(modified_row)\n",
    "        self.world = modified_world\n",
    "        self.world = np.array(self.world)\n",
    "\n",
    "        for i in range(len(world_map)):\n",
    "            for j in range(len(world_map[0])):\n",
    "                if world_map[i][j] == \"r\":\n",
    "                    self.desired_space.append((i, j))\n",
    "                if world_map[i][j].isdigit() and int(world_map[i][j]) != 0:\n",
    "                    if world_map[i][j] not in self.cargos:\n",
    "                        self.cargos[world_map[i][j]] = []\n",
    "                    self.cargos[world_map[i][j]].append((i, j))\n",
    "        for key in self.cargos:\n",
    "            self.cargos[key] = np.array(self.cargos[key])\n",
    "\n",
    "        self.desired_space = np.array(self.desired_space)\n",
    "\n",
    "        self.init_cargos = self.cargos.copy()\n",
    "        self.init_desired_space = self.desired_space.copy()\n",
    "        self.init_world = self.world.copy()\n",
    "\n",
    "    def move_cargo(self, cargo, action):\n",
    "        if action == \"D\":\n",
    "            new_pos = self.cargos[cargo] + np.array([1, 0])\n",
    "        elif action == \"U\":\n",
    "            new_pos = self.cargos[cargo] + np.array([-1, 0])\n",
    "        elif action == \"R\":\n",
    "            new_pos = self.cargos[cargo] + np.array([0, 1])\n",
    "        elif action == \"L\":\n",
    "            new_pos = self.cargos[cargo] + np.array([0, -1])\n",
    "        else:\n",
    "            raise ValueError(\"Action must be one of D, U, R, L\")\n",
    "\n",
    "        if np.any(new_pos < 0) or np.any(\n",
    "            new_pos >= np.array([self.world_h, self.world_w])\n",
    "        ):\n",
    "            raise ValueError(\"New position is out of bounds\")\n",
    "        self.world[self.cargos[cargo][:, 0], self.cargos[cargo][:, 1]] = 0\n",
    "        for i, j in self.desired_space:\n",
    "            self.world[i, j] = -1\n",
    "        self.world[new_pos[:, 0], new_pos[:, 1]] = int(cargo)\n",
    "        self.cargos[cargo] = new_pos\n",
    "\n",
    "    def check_move(self, cargo, action):\n",
    "        if action == \"D\":\n",
    "            new_pos = self.cargos[cargo] + np.array([1, 0])\n",
    "        elif action == \"U\":\n",
    "            new_pos = self.cargos[cargo] + np.array([-1, 0])\n",
    "        elif action == \"R\":\n",
    "            new_pos = self.cargos[cargo] + np.array([0, 1])\n",
    "        elif action == \"L\":\n",
    "            new_pos = self.cargos[cargo] + np.array([0, -1])\n",
    "        else:\n",
    "            raise ValueError(\"Action must be one of D, U, R, L\")\n",
    "\n",
    "        if np.any(new_pos < 0) or np.any(\n",
    "            new_pos >= np.array([self.world_h, self.world_w])\n",
    "        ):\n",
    "            return False\n",
    "        return True\n",
    "\n",
    "    def world_visualisation(self):\n",
    "        world = [[0 for _ in range(self.world_w)] for _ in range(self.world_h)]\n",
    "        for space in self.desired_space:\n",
    "            world[space[0]][space[1]] = \"r\"\n",
    "\n",
    "        for key in self.cargos:\n",
    "            for cargo_cell in self.cargos[key]:\n",
    "                world[cargo_cell[0]][cargo_cell[1]] = key\n",
    "\n",
    "        for i in range(len(world)):\n",
    "            for j in range(len(world[0])):\n",
    "                print(world[i][j], end=\" \")\n",
    "            print()\n",
    "\n",
    "    def goal_distance(self, cargo):\n",
    "        distances = []\n",
    "        ids = []\n",
    "        points = []\n",
    "        for cargo_y, cargo_x in self.cargos[cargo]:\n",
    "            min_y = 1e8\n",
    "            min_x = 1e8\n",
    "            id_y = -1\n",
    "            id_x = -1\n",
    "            min_cargo_point = (-1, -1)\n",
    "\n",
    "            for des_y, des_x in self.desired_space:\n",
    "                if abs(des_y - cargo_y) + abs(des_x - cargo_x) < min_y + min_x:\n",
    "                    min_y = abs(des_y - cargo_y)\n",
    "                    min_x = abs(des_x - cargo_x)\n",
    "                    id_y = des_y\n",
    "                    id_x = des_x\n",
    "                    min_cargo_point = (cargo_y, cargo_x)\n",
    "            distances.append(min_y + min_x)\n",
    "            ids.append((id_y, id_x))\n",
    "            points.append(min_cargo_point)\n",
    "        min_id = np.argmax(distances)\n",
    "        return distances[min_id], *ids[min_id], *points[min_id]\n",
    "\n",
    "    def reset(self):\n",
    "        self.cargos = self.init_cargos.copy()\n",
    "        self.desired_space = self.init_desired_space.copy()\n",
    "        self.world = self.init_world.copy()\n",
    "\n",
    "    def get_cargo_overlaps(self):\n",
    "        total_cells = []\n",
    "        for cargo in self.cargos:\n",
    "            for cell in self.cargos[cargo]:\n",
    "                total_cells.append(cell)\n",
    "        total_cells = np.array(total_cells)\n",
    "        unique, counts = np.unique(total_cells, axis=0, return_counts=True)\n",
    "        overlaped_cells = np.sum(counts > 1)\n",
    "        return overlaped_cells\n",
    "\n",
    "    def get_cargo_overlaps_with_desired(self):\n",
    "        ret = 0\n",
    "        for des_cell in self.desired_space:\n",
    "            for cargo in self.cargos:\n",
    "                for cargo_cell in self.cargos[cargo]:\n",
    "                    if des_cell[0] == cargo_cell[0] and des_cell[1] == cargo_cell[1]:\n",
    "                        ret += 1\n",
    "        return ret\n",
    "\n",
    "    def is_done(self):\n",
    "        reward = 0\n",
    "        reward -= self.get_cargo_overlaps()\n",
    "        reward += self.get_cargo_overlaps_with_desired()\n",
    "        cargo_cells = 0\n",
    "        for cargo in self.cargos:\n",
    "            cargo_cells += len(self.cargos[cargo])\n",
    "        return reward == cargo_cells"
   ],
   "metadata": {
    "collapsed": false,
    "pycharm": {
     "name": "#%%\n"
    }
   }
  },
  {
   "cell_type": "code",
   "execution_count": 227,
   "outputs": [],
   "source": [
    "def generate_random_world():\n",
    "    world_h = 20\n",
    "    world_w = 20\n",
    "    world = np.zeros((world_h, world_w))\n",
    "    cargo_num = np.random.randint(1, 5)\n",
    "    desired_h = np.random.randint(2, world_h)\n",
    "    desired_w = np.random.randint(2, world_w)\n",
    "    desired_corner_x = np.random.randint(0, world_w - desired_w)\n",
    "    desired_corner_y = np.random.randint(0, world_h - desired_h)\n",
    "    for i in range(desired_h):\n",
    "        for j in range(desired_w):\n",
    "            world[desired_corner_y + i, desired_corner_x + j] = -1\n",
    "    for i in range(1, cargo_num + 1):\n",
    "        cargo_h = np.random.randint(1, world_h)\n",
    "        cargo_w = np.random.randint(1, world_w)\n",
    "        cells = []\n",
    "        initial_cell = np.random.randint(0, world_h - cargo_h), np.random.randint(\n",
    "            0, world_w - cargo_w\n",
    "        )\n",
    "        cells.append(initial_cell)\n",
    "        cells_num = np.random.randint(0, 4)\n",
    "        for j in range(cells_num):\n",
    "            moves = [(0, 1), (0, -1), (1, 0), (-1, 0)]\n",
    "            move = moves[np.random.randint(0, 4)]\n",
    "            new_y, new_x = (cells[j - 1][0] + move[0], cells[j - 1][1] + move[1])\n",
    "            new_cell = (new_y, new_x)\n",
    "            while (\n",
    "                new_cell[0] < 0\n",
    "                or new_cell[0] >= world_h\n",
    "                or new_cell[1] < 0\n",
    "                or new_cell[1] >= world_w\n",
    "            ):\n",
    "                move = moves[np.random.randint(0, 4)]\n",
    "                new_y, new_x = (cells[j - 1][0] + move[0], cells[j - 1][1] + move[1])\n",
    "                new_cell = (new_y, new_x)\n",
    "            cells.append(new_cell)\n",
    "        cells = np.array(cells)\n",
    "        world[cells[:, 0], cells[:, 1]] = i\n",
    "        # print(cells)\n",
    "    return world"
   ],
   "metadata": {
    "collapsed": false,
    "pycharm": {
     "name": "#%%\n"
    }
   }
  },
  {
   "cell_type": "code",
   "execution_count": 228,
   "outputs": [
    {
     "data": {
      "text/plain": "array([[ 0.,  0.,  0.,  0.,  0.,  0.,  0.,  0.,  0.,  0.,  0.,  0.,  0.,\n         0.,  0.,  0.,  0.,  0.,  0.,  0.],\n       [ 0.,  0.,  0.,  0.,  0.,  0.,  0.,  0.,  0.,  0.,  0.,  0.,  0.,\n         0.,  0.,  0.,  0.,  0.,  0.,  0.],\n       [ 0.,  0.,  0.,  0.,  0.,  0.,  0.,  0., -1., -1.,  1.,  1., -1.,\n        -1., -1.,  0.,  0.,  0.,  0.,  0.],\n       [ 0.,  0.,  0.,  0.,  0.,  0.,  0.,  0., -1., -1., -1., -1., -1.,\n        -1., -1.,  0.,  0.,  0.,  0.,  0.],\n       [ 0.,  0.,  0.,  0.,  0.,  0.,  0.,  0., -1., -1., -1., -1., -1.,\n        -1., -1.,  0.,  0.,  0.,  0.,  0.],\n       [ 0.,  0.,  0.,  0.,  0.,  0.,  0.,  0., -1., -1.,  2., -1., -1.,\n        -1., -1.,  0.,  0.,  0.,  0.,  0.],\n       [ 0.,  0.,  0.,  0.,  0.,  0.,  0.,  0., -1., -1.,  2., -1., -1.,\n        -1., -1.,  0.,  0.,  0.,  0.,  0.],\n       [ 0.,  0.,  0.,  0.,  0.,  0.,  0.,  0., -1., -1.,  2., -1., -1.,\n        -1., -1.,  0.,  0.,  0.,  0.,  0.],\n       [ 0.,  0.,  4.,  4.,  0.,  0.,  0.,  0., -1., -1., -1., -1., -1.,\n        -1., -1.,  0.,  0.,  0.,  0.,  0.],\n       [ 0.,  0.,  0.,  0.,  0.,  0.,  0.,  0., -1., -1., -1., -1., -1.,\n        -1., -1.,  0.,  0.,  0.,  0.,  0.],\n       [ 0.,  0.,  0.,  0.,  0.,  0.,  0.,  0., -1., -1., -1., -1., -1.,\n        -1., -1.,  0.,  0.,  0.,  0.,  0.],\n       [ 0.,  0.,  0.,  0.,  0.,  0.,  0.,  0., -1., -1., -1., -1., -1.,\n        -1., -1.,  0.,  0.,  0.,  0.,  0.],\n       [ 0.,  0.,  0.,  0.,  0.,  0.,  0.,  0., -1., -1., -1., -1., -1.,\n        -1., -1.,  0.,  0.,  0.,  0.,  0.],\n       [ 0.,  0.,  0.,  0.,  0.,  0.,  0.,  0., -1., -1., -1.,  3.,  3.,\n        -1., -1.,  0.,  0.,  0.,  0.,  0.],\n       [ 0.,  0.,  0.,  0.,  0.,  0.,  0.,  0., -1., -1., -1., -1., -1.,\n        -1., -1.,  0.,  0.,  0.,  0.,  0.],\n       [ 0.,  0.,  0.,  0.,  0.,  0.,  0.,  0., -1., -1., -1., -1., -1.,\n        -1., -1.,  0.,  0.,  0.,  0.,  0.],\n       [ 0.,  0.,  0.,  0.,  0.,  0.,  0.,  0., -1., -1., -1., -1., -1.,\n        -1., -1.,  0.,  0.,  0.,  0.,  0.],\n       [ 0.,  0.,  0.,  0.,  0.,  0.,  0.,  0., -1., -1., -1., -1., -1.,\n        -1., -1.,  0.,  0.,  0.,  0.,  0.],\n       [ 0.,  0.,  0.,  0.,  0.,  0.,  0.,  0., -1., -1., -1., -1., -1.,\n        -1., -1.,  0.,  0.,  0.,  0.,  0.],\n       [ 0.,  0.,  0.,  0.,  0.,  0.,  0.,  0.,  0.,  0.,  0.,  0.,  0.,\n         0.,  0.,  0.,  0.,  0.,  0.,  0.]])"
     },
     "execution_count": 228,
     "metadata": {},
     "output_type": "execute_result"
    }
   ],
   "source": [
    "w = generate_random_world()\n",
    "# write w into file\n",
    "with open(\"world.txt\", \"w\") as f:\n",
    "    for i in range(w.shape[0]):\n",
    "        for j in range(w.shape[1]):\n",
    "            if w[i,j] == -1:\n",
    "                f.write(\"r \")\n",
    "            elif w[i,j] == 0:\n",
    "                f.write(\"0 \")\n",
    "            else:\n",
    "                f.write(str(int(w[i,j])) + \" \")\n",
    "        f.write(\"\\n\")\n",
    "w"
   ],
   "metadata": {
    "collapsed": false,
    "pycharm": {
     "name": "#%%\n"
    }
   }
  },
  {
   "cell_type": "code",
   "execution_count": 229,
   "outputs": [],
   "source": [
    "# read from input file\n",
    "file = open(\"input.txt\", \"r\")\n",
    "world_map = []\n",
    "for line in file:\n",
    "    line = line.strip()\n",
    "    line = line.split()\n",
    "    world_map.append(line)\n",
    "file.close()\n",
    "env = Environment(world_map)"
   ],
   "metadata": {
    "collapsed": false,
    "pycharm": {
     "name": "#%%\n"
    }
   }
  },
  {
   "cell_type": "code",
   "execution_count": 230,
   "outputs": [
    {
     "name": "stdout",
     "output_type": "stream",
     "text": [
      "0 0 0 0 0 0 0 0 0 0 0 0 0 0 0 0 0 0 0 0 \n",
      "0 0 0 0 0 0 0 0 0 0 0 0 0 0 0 0 0 0 0 0 \n",
      "0 0 0 0 0 0 0 0 0 0 0 0 0 0 0 0 0 0 0 0 \n",
      "0 0 0 0 0 0 0 0 0 0 0 0 0 0 0 0 0 0 0 0 \n",
      "0 0 0 0 0 0 0 0 0 r r r r r r r r r r 0 \n",
      "0 0 0 0 0 0 0 0 0 r r r r r r r r r r 0 \n",
      "0 0 0 0 1 0 0 0 0 r r r r r r r r r r 0 \n",
      "0 0 0 2 2 0 0 0 0 r r r r r r r r r r 0 \n",
      "0 0 0 2 2 0 0 0 0 r r r r r r r r r r 0 \n",
      "0 0 3 3 0 0 0 0 0 r r r r r r r r r r 0 \n",
      "0 0 3 0 0 0 0 0 0 r r r r r r r r r r 0 \n",
      "0 0 0 4 0 0 0 0 0 r r r r r r r r r r 0 \n",
      "0 0 0 0 0 0 0 0 0 r r r r r r r r r r 0 \n",
      "0 0 0 0 0 0 0 0 0 0 0 0 0 0 0 0 0 0 0 0 \n",
      "0 0 0 0 0 0 0 0 0 0 0 0 0 0 0 0 0 0 0 0 \n",
      "0 0 0 0 0 0 0 0 0 0 0 0 0 0 0 0 0 0 0 0 \n",
      "0 0 0 0 0 0 0 0 0 0 0 0 0 0 0 0 0 0 0 0 \n",
      "0 0 0 0 0 0 0 0 0 0 0 0 0 0 0 0 0 0 0 0 \n",
      "0 0 0 0 0 0 0 0 0 0 0 0 0 0 0 0 0 0 0 0 \n",
      "0 0 0 0 0 0 0 0 0 0 0 0 0 0 0 0 0 0 0 0 \n"
     ]
    }
   ],
   "source": [
    "env.world_visualisation()"
   ],
   "metadata": {
    "collapsed": false,
    "pycharm": {
     "name": "#%%\n"
    }
   }
  },
  {
   "cell_type": "code",
   "execution_count": 231,
   "outputs": [],
   "source": [
    "class DQN(nn.Module):\n",
    "    def __init__(self, output_size):\n",
    "        super(DQN, self).__init__()\n",
    "        self.conv1 = nn.Conv2d(1, 16, kernel_size=3, stride=1, padding=1)\n",
    "        self.conv2 = nn.Conv2d(16, 32, kernel_size=3, stride=1, padding=1)\n",
    "        self.conv3 = nn.Conv2d(32, 64, kernel_size=3, stride=1, padding=1)\n",
    "        self.global_pool = nn.AdaptiveAvgPool2d((1, 1))\n",
    "        self.fc1 = nn.Linear(64, 64)\n",
    "        self.fc2 = nn.Linear(64, output_size)\n",
    "\n",
    "    def forward(self, x):\n",
    "        x = F.relu(self.conv1(x))\n",
    "        x = F.relu(self.conv2(x))\n",
    "        x = F.relu(self.conv3(x))\n",
    "        x = self.global_pool(x)\n",
    "        x = x.view(x.size(0), -1)\n",
    "        x = F.relu(self.fc1(x))\n",
    "        x = self.fc2(x)\n",
    "        return x"
   ],
   "metadata": {
    "collapsed": false,
    "pycharm": {
     "name": "#%%\n"
    }
   }
  },
  {
   "cell_type": "code",
   "execution_count": 232,
   "outputs": [
    {
     "data": {
      "text/plain": "array([[ 0,  0,  0,  0,  0,  0,  0,  0,  0,  0,  0,  0,  0,  0,  0,  0,\n         0,  0,  0,  0],\n       [ 0,  0,  0,  0,  0,  0,  0,  0,  0,  0,  0,  0,  0,  0,  0,  0,\n         0,  0,  0,  0],\n       [ 0,  0,  0,  0,  0,  0,  0,  0,  0,  0,  0,  0,  0,  0,  0,  0,\n         0,  0,  0,  0],\n       [ 0,  0,  0,  0,  0,  0,  0,  0,  0,  0,  0,  0,  0,  0,  0,  0,\n         0,  0,  0,  0],\n       [ 0,  0,  0,  0,  0,  0,  0,  0,  0, -1, -1, -1, -1, -1, -1, -1,\n        -1, -1, -1,  0],\n       [ 0,  0,  0,  0,  0,  0,  0,  0,  0, -1, -1, -1, -1, -1, -1, -1,\n        -1, -1, -1,  0],\n       [ 0,  0,  0,  0,  1,  0,  0,  0,  0, -1, -1, -1, -1, -1, -1, -1,\n        -1, -1, -1,  0],\n       [ 0,  0,  0,  2,  2,  0,  0,  0,  0, -1, -1, -1, -1, -1, -1, -1,\n        -1, -1, -1,  0],\n       [ 0,  0,  0,  2,  2,  0,  0,  0,  0, -1, -1, -1, -1, -1, -1, -1,\n        -1, -1, -1,  0],\n       [ 0,  0,  3,  3,  0,  0,  0,  0,  0, -1, -1, -1, -1, -1, -1, -1,\n        -1, -1, -1,  0],\n       [ 0,  0,  3,  0,  0,  0,  0,  0,  0, -1, -1, -1, -1, -1, -1, -1,\n        -1, -1, -1,  0],\n       [ 0,  0,  0,  4,  0,  0,  0,  0,  0, -1, -1, -1, -1, -1, -1, -1,\n        -1, -1, -1,  0],\n       [ 0,  0,  0,  0,  0,  0,  0,  0,  0, -1, -1, -1, -1, -1, -1, -1,\n        -1, -1, -1,  0],\n       [ 0,  0,  0,  0,  0,  0,  0,  0,  0,  0,  0,  0,  0,  0,  0,  0,\n         0,  0,  0,  0],\n       [ 0,  0,  0,  0,  0,  0,  0,  0,  0,  0,  0,  0,  0,  0,  0,  0,\n         0,  0,  0,  0],\n       [ 0,  0,  0,  0,  0,  0,  0,  0,  0,  0,  0,  0,  0,  0,  0,  0,\n         0,  0,  0,  0],\n       [ 0,  0,  0,  0,  0,  0,  0,  0,  0,  0,  0,  0,  0,  0,  0,  0,\n         0,  0,  0,  0],\n       [ 0,  0,  0,  0,  0,  0,  0,  0,  0,  0,  0,  0,  0,  0,  0,  0,\n         0,  0,  0,  0],\n       [ 0,  0,  0,  0,  0,  0,  0,  0,  0,  0,  0,  0,  0,  0,  0,  0,\n         0,  0,  0,  0],\n       [ 0,  0,  0,  0,  0,  0,  0,  0,  0,  0,  0,  0,  0,  0,  0,  0,\n         0,  0,  0,  0]])"
     },
     "execution_count": 232,
     "metadata": {},
     "output_type": "execute_result"
    }
   ],
   "source": [
    "env.world"
   ],
   "metadata": {
    "collapsed": false,
    "pycharm": {
     "name": "#%%\n"
    }
   }
  },
  {
   "cell_type": "code",
   "execution_count": 233,
   "outputs": [],
   "source": [
    "Transition = namedtuple(\"Transition\", (\"state\", \"action\", \"next_state\", \"reward\"))\n",
    "\n",
    "\n",
    "class ReplayMemory(object):\n",
    "    def __init__(self, capacity):\n",
    "        self.memory = deque([], maxlen=capacity)\n",
    "\n",
    "    def push(self, *args):\n",
    "        \"\"\"Save a transition\"\"\"\n",
    "        self.memory.append(Transition(*args))\n",
    "\n",
    "    def sample(self, batch_size):\n",
    "        return random.sample(self.memory, batch_size)\n",
    "\n",
    "    def __len__(self):\n",
    "        return len(self.memory)"
   ],
   "metadata": {
    "collapsed": false,
    "pycharm": {
     "name": "#%%\n"
    }
   }
  },
  {
   "cell_type": "code",
   "execution_count": 234,
   "outputs": [],
   "source": [
    "device = torch.device(\"cuda\" if torch.cuda.is_available() else \"cpu\")"
   ],
   "metadata": {
    "collapsed": false,
    "pycharm": {
     "name": "#%%\n"
    }
   }
  },
  {
   "cell_type": "code",
   "execution_count": 235,
   "outputs": [],
   "source": [
    "BATCH_SIZE = 128\n",
    "GAMMA = 0.999\n",
    "EPS_START = 0.5\n",
    "EPS_END = 0.05\n",
    "EPS_DECAY = 200\n",
    "TARGET_UPDATE = 10\n",
    "\n",
    "n_actions = 4\n",
    "\n",
    "policy_net = DQN(n_actions).to(device)\n",
    "target_net = DQN(n_actions).to(device)"
   ],
   "metadata": {
    "collapsed": false,
    "pycharm": {
     "name": "#%%\n"
    }
   }
  },
  {
   "cell_type": "code",
   "execution_count": 236,
   "outputs": [],
   "source": [
    "steps_done = 0\n",
    "\n",
    "\n",
    "def select_action(state):\n",
    "    global steps_done\n",
    "    sample = np.random.random()\n",
    "    eps_threshold = EPS_END + (EPS_START - EPS_END) * np.exp(\n",
    "        -1.0 * steps_done / EPS_DECAY\n",
    "    )\n",
    "    steps_done += 1\n",
    "    if sample > eps_threshold:\n",
    "        # print(\"policy\")\n",
    "        with torch.no_grad():\n",
    "            return (policy_net(state.to(device)).max(1)[1].view(1, 1)).to(\"cpu\")\n",
    "\n",
    "    else:\n",
    "        # print(\"random\")\n",
    "        return torch.tensor([[random.randrange(n_actions)]], dtype=torch.long)"
   ],
   "metadata": {
    "collapsed": false,
    "pycharm": {
     "name": "#%%\n"
    }
   }
  },
  {
   "cell_type": "code",
   "execution_count": 237,
   "outputs": [],
   "source": [
    "def get_state(env, cargo=None):\n",
    "    state = env.world\n",
    "    state = np.array(state)\n",
    "    if cargo is not None:\n",
    "        for other_cargo in env.cargos:\n",
    "            if other_cargo != cargo:\n",
    "                state[env.cargos[other_cargo][:, 0], env.cargos[other_cargo][:, 1]] = -2\n",
    "    state = state.reshape(1, 1, env.world_h, env.world_w)\n",
    "    state = torch.from_numpy(state)\n",
    "    state = state.float()\n",
    "    return state\n",
    "\n",
    "\n",
    "\n",
    "def get_reward(env, possible):\n",
    "    reward = 0\n",
    "    reward += env.get_cargo_overlaps_with_desired()\n",
    "    reward -= env.get_cargo_overlaps()\n",
    "    reward -= 1\n",
    "    if not possible:\n",
    "        reward = -100\n",
    "    return torch.tensor([reward], dtype=torch.float)"
   ],
   "metadata": {
    "collapsed": false,
    "pycharm": {
     "name": "#%%\n"
    }
   }
  },
  {
   "cell_type": "code",
   "execution_count": 238,
   "outputs": [],
   "source": [
    "def get_cargo_state(state, cargo):\n",
    "    state = state.detach().numpy()\n",
    "    state = state.reshape(env.world_h, env.world_w)\n",
    "    # print(state)\n",
    "    for other_cargo in env.cargos:\n",
    "        if other_cargo != cargo:\n",
    "            state[env.cargos[other_cargo][:, 0], env.cargos[other_cargo][:, 1]] = -2\n",
    "        else:\n",
    "            state[env.cargos[other_cargo][:, 0], env.cargos[other_cargo][:, 1]] = 1\n",
    "    new_state = state.reshape(1, 1, env.world_h, env.world_w)\n",
    "    new_state = torch.from_numpy(new_state)\n",
    "    new_state = new_state.float()\n",
    "    return new_state"
   ],
   "metadata": {
    "collapsed": false,
    "pycharm": {
     "name": "#%%\n"
    }
   }
  },
  {
   "cell_type": "code",
   "execution_count": 239,
   "outputs": [
    {
     "data": {
      "text/plain": "tensor([[ 2],\n        [ 8],\n        [14]])"
     },
     "execution_count": 239,
     "metadata": {},
     "output_type": "execute_result"
    }
   ],
   "source": [
    "tens = torch.tensor([[1, 2, 3, 4, 5], [6, 7, 8, 9, 10], [11, 12, 13, 14, 15]])\n",
    "a = torch.tensor([1, 2, 3])\n",
    "tens.gather(1, a.unsqueeze(1))"
   ],
   "metadata": {
    "collapsed": false,
    "pycharm": {
     "name": "#%%\n"
    }
   }
  },
  {
   "cell_type": "code",
   "execution_count": 240,
   "outputs": [],
   "source": [
    "memory = ReplayMemory(10000)\n",
    "optimizer = optim.Adam(policy_net.parameters())\n",
    "\n",
    "\n",
    "def optimize_model():\n",
    "    if len(memory) < BATCH_SIZE:\n",
    "        return\n",
    "    transitions = memory.sample(BATCH_SIZE)\n",
    "    batch = Transition(*zip(*transitions))\n",
    "\n",
    "    non_final_mask = torch.tensor(\n",
    "        tuple(map(lambda s: s is not None, batch.next_state)), dtype=torch.bool\n",
    "    )\n",
    "    non_final_next_states = torch.cat([s for s in batch.next_state if s is not None])\n",
    "\n",
    "    state_batch = torch.cat(batch.state).to(device)\n",
    "    action_batch = torch.cat(batch.action).to(device)\n",
    "    reward_batch = torch.cat(batch.reward).to(device)\n",
    "\n",
    "    state_action_values = policy_net(state_batch).gather(1, action_batch)\n",
    "\n",
    "    next_state_values = torch.zeros(BATCH_SIZE).to(device)\n",
    "    next_state_values[non_final_mask] = (\n",
    "        target_net(non_final_next_states.to(device)).max(1)[0].detach()\n",
    "    )\n",
    "\n",
    "    expected_state_action_values = (next_state_values * GAMMA) + reward_batch\n",
    "\n",
    "    loss = F.smooth_l1_loss(\n",
    "        state_action_values, expected_state_action_values.unsqueeze(1)\n",
    "    )\n",
    "\n",
    "    optimizer.zero_grad()\n",
    "    loss.backward()\n",
    "    for param in policy_net.parameters():\n",
    "        param.grad.data.clamp_(-1, 1)\n",
    "    optimizer.step()"
   ],
   "metadata": {
    "collapsed": false,
    "pycharm": {
     "name": "#%%\n"
    }
   }
  },
  {
   "cell_type": "code",
   "execution_count": 241,
   "outputs": [],
   "source": [
    "# transitions = memory.sample(BATCH_SIZE)\n",
    "# batch = Transition(*zip(*transitions))\n",
    "# state_batch = torch.cat(batch.state)\n",
    "# action_batch = torch.cat(batch.action)\n",
    "# reward_batch = torch.cat(batch.reward)\n",
    "#\n",
    "# action_batch = torch.stack([action_batch, action_batch, action_batch])\n",
    "# action_batch = action_batch.transpose(0, 1)\n",
    "# # print(action_batch)\n",
    "#\n",
    "# for state_id, state in enumerate(state_batch):\n",
    "#     actions = []\n",
    "#     # print(action_batch[0].shape)\n",
    "#     for ind, cargo in enumerate(env.cargos):\n",
    "#         cargo_state = get_cargo_state(state.to('cpu'), cargo)\n",
    "#         # print(cargo_state.detach().numpy().reshape(env.world_h, env.world_w))\n",
    "#         action = policy_net(cargo_state.to(device)).to('cpu')\n",
    "#         print(action.tolist())\n",
    "#         print(action_batch[state_id][ind].tolist())\n",
    "#         action = action.squeeze()[action_batch[state_id][ind]]\n",
    "#         print(state_id, ind)\n",
    "#         print(action.item())\n"
   ],
   "metadata": {
    "collapsed": false,
    "pycharm": {
     "name": "#%%\n"
    }
   }
  },
  {
   "cell_type": "code",
   "execution_count": 242,
   "outputs": [
    {
     "data": {
      "text/plain": "800"
     },
     "execution_count": 242,
     "metadata": {},
     "output_type": "execute_result"
    }
   ],
   "source": [
    "actions_list = [\"D\", \"U\", \"R\", \"L\"]\n",
    "MAX_STEPS = env.world_h * env.world_w * 2\n",
    "MAX_STEPS"
   ],
   "metadata": {
    "collapsed": false,
    "pycharm": {
     "name": "#%%\n"
    }
   }
  },
  {
   "cell_type": "code",
   "execution_count": 243,
   "outputs": [
    {
     "name": "stdout",
     "output_type": "stream",
     "text": [
      "0 0 0 0 0 0 0 0 0 0 0 0 0 0 0 0 0 0 0 0 \n",
      "0 0 0 0 r r r r r r r r 0 0 0 0 0 0 0 0 \n",
      "0 0 0 0 r r r r r r r r 0 0 0 0 0 0 0 0 \n",
      "0 0 0 0 r r r r r r r r 0 0 0 0 0 0 0 0 \n",
      "0 0 0 0 r r r r r r r r 0 0 0 0 0 0 0 0 \n",
      "0 0 0 0 r r r r r r r r 0 0 0 0 0 0 0 0 \n",
      "0 0 0 0 r r r r r r r r 0 0 0 0 0 0 0 0 \n",
      "0 0 0 0 r r r r r r r r 0 0 0 0 0 0 0 0 \n",
      "1 0 0 0 r r r r r r r r 0 0 0 0 0 0 0 0 \n",
      "0 0 0 0 r r r r r r r r 0 0 0 0 0 0 0 0 \n",
      "0 0 0 0 r r r r r r r r 0 0 0 0 0 0 0 0 \n",
      "0 0 0 0 r r r r r r r r 0 0 0 0 0 0 0 0 \n",
      "0 0 0 0 r r r r r r r r 0 0 0 0 0 0 0 0 \n",
      "0 0 0 0 r r r r r r r r 0 0 0 0 0 0 0 0 \n",
      "0 0 0 0 r r r r r r r r 0 0 0 0 0 0 0 0 \n",
      "0 0 0 0 r r r r r r r r 0 0 0 0 0 0 0 0 \n",
      "0 0 0 0 0 0 0 0 0 0 0 0 0 0 0 0 0 0 0 0 \n",
      "0 0 0 0 0 0 0 0 0 0 0 0 0 0 0 0 0 0 0 0 \n",
      "0 0 0 0 0 0 0 0 0 0 0 0 0 0 0 0 0 0 0 0 \n",
      "0 0 0 0 0 0 0 0 0 0 0 0 0 0 0 0 0 0 0 0 \n"
     ]
    }
   ],
   "source": [
    "def get_random_env():\n",
    "    random_world_map = generate_random_world()\n",
    "    random_world_map = random_world_map.tolist()\n",
    "    for line in random_world_map:\n",
    "        for elem in line:\n",
    "            if elem == -1:\n",
    "                random_world_map[random_world_map.index(line)][line.index(elem)] = 'r'\n",
    "            else:\n",
    "                random_world_map[random_world_map.index(line)][line.index(elem)] = str(int(elem))\n",
    "    r_env = Environment(random_world_map)\n",
    "    return r_env\n",
    "\n",
    "r_env = get_random_env()\n",
    "r_env.world_visualisation()"
   ],
   "metadata": {
    "collapsed": false,
    "pycharm": {
     "name": "#%%\n"
    }
   }
  },
  {
   "cell_type": "code",
   "execution_count": 244,
   "outputs": [],
   "source": [
    "from IPython.core.display_functions import clear_output\n",
    "\n",
    "total_train_rewards = []\n",
    "episode_results = []\n",
    "results = {'failed': 0, 'success': 0}\n",
    "\n",
    "\n",
    "def train(n_episodes=1000):\n",
    "    global env\n",
    "    for i_episode in range(n_episodes):\n",
    "        env.reset()\n",
    "        init_cargo_pos = env.cargos.copy()\n",
    "        state = get_state(env)\n",
    "        cargo_paths = dict()\n",
    "        episode_reward_sum = 0\n",
    "        steps = 0\n",
    "        while True:\n",
    "\n",
    "            if steps > MAX_STEPS:\n",
    "                results['failed'] += 1\n",
    "                break\n",
    "\n",
    "            for cargo in env.cargos.keys():\n",
    "                steps += 1\n",
    "                cargo_state = get_cargo_state(state, cargo)\n",
    "                action = select_action(cargo_state)\n",
    "                is_possible_move = env.check_move(cargo, actions_list[action])\n",
    "\n",
    "                if not cargo_paths.get(cargo):\n",
    "                    cargo_paths[cargo] = []\n",
    "\n",
    "                cargo_paths[cargo].append(actions_list[action])\n",
    "                if is_possible_move:\n",
    "                    env.move_cargo(cargo, actions_list[action])\n",
    "                else:\n",
    "                    pass\n",
    "\n",
    "                reward = get_reward(env, is_possible_move)\n",
    "                if env.is_done():\n",
    "                    reward += 1000\n",
    "\n",
    "                next_state = get_state(env)\n",
    "                memory.push(state, action, next_state, reward)\n",
    "                state = next_state\n",
    "                optimize_model()\n",
    "                episode_reward_sum += reward.item()\n",
    "                # cargo_paths.append(path)\n",
    "                if env.is_done():\n",
    "                    break\n",
    "\n",
    "            if env.is_done():\n",
    "                results['success'] += 1\n",
    "                break\n",
    "        if i_episode % TARGET_UPDATE == 0:\n",
    "            target_net.load_state_dict(policy_net.state_dict())\n",
    "\n",
    "        print(\"Episode: {}, Reward: {}\".format(i_episode, episode_reward_sum))\n",
    "        total_train_rewards.append(episode_reward_sum)\n",
    "        episode_results.append(env.is_done())\n",
    "        print(\"Is done: {}\".format(env.is_done()))\n",
    "        print(\"Cargo positions: \")\n",
    "        for cargo in env.cargos.keys():\n",
    "            print(cargo, end=\": \")\n",
    "            for pos in env.cargos[cargo]:\n",
    "                print(pos, end=\" \")\n",
    "            print()\n",
    "        print(\"Initial cargo positions: \")\n",
    "        for cargo in init_cargo_pos.keys():\n",
    "            print(cargo, end=\": \")\n",
    "            for pos in init_cargo_pos[cargo]:\n",
    "                print(pos, end=\" \")\n",
    "            print()\n",
    "        print(f\"steps performed: {steps}\")\n",
    "        # print(f'cargo paths: {cargo_paths}')\n",
    "        print(\"-\" * 40)\n",
    "        # clear output\n",
    "        clear_output(wait=True)"
   ],
   "metadata": {
    "collapsed": false,
    "pycharm": {
     "name": "#%%\n"
    }
   }
  },
  {
   "cell_type": "code",
   "execution_count": 245,
   "outputs": [
    {
     "name": "stdout",
     "output_type": "stream",
     "text": [
      "Episode: 999, Reward: 1023.0\n",
      "Is done: True\n",
      "Cargo positions: \n",
      "1: [ 5 10] \n",
      "2: [ 7 10] [ 7 11] [ 8 10] [ 8 11] \n",
      "3: [9 9] [ 9 10] [10  9] \n",
      "4: [11  9] \n",
      "Initial cargo positions: \n",
      "1: [6 4] \n",
      "2: [7 3] [7 4] [8 3] [8 4] \n",
      "3: [9 2] [9 3] [10  2] \n",
      "4: [11  3] \n",
      "steps performed: 27\n",
      "----------------------------------------\n"
     ]
    }
   ],
   "source": [
    "train()"
   ],
   "metadata": {
    "collapsed": false,
    "pycharm": {
     "name": "#%%\n"
    }
   }
  },
  {
   "cell_type": "code",
   "execution_count": 246,
   "outputs": [
    {
     "data": {
      "text/plain": "{'failed': 64, 'success': 936}"
     },
     "execution_count": 246,
     "metadata": {},
     "output_type": "execute_result"
    }
   ],
   "source": [
    "results"
   ],
   "metadata": {
    "collapsed": false,
    "pycharm": {
     "name": "#%%\n"
    }
   }
  },
  {
   "cell_type": "code",
   "execution_count": 247,
   "outputs": [
    {
     "name": "stderr",
     "output_type": "stream",
     "text": [
      "<__array_function__ internals>:180: RuntimeWarning: Converting input from bool to <class 'numpy.uint8'> for compatibility.\n"
     ]
    },
    {
     "data": {
      "text/plain": "<Figure size 640x480 with 1 Axes>",
      "image/png": "[encoded data removed]"
     },
     "metadata": {},
     "output_type": "display_data"
    }
   ],
   "source": [
    "# compare failed and success\n",
    "sns.histplot(episode_results)\n",
    "plt.title(\"Success and failed episodes\")\n",
    "plt.show()"
   ],
   "metadata": {
    "collapsed": false,
    "pycharm": {
     "name": "#%%\n"
    }
   }
  },
  {
   "cell_type": "code",
   "execution_count": 248,
   "outputs": [
    {
     "data": {
      "text/plain": "<Figure size 640x480 with 1 Axes>",
      "image/png": "[encoded data removed]"
     },
     "metadata": {},
     "output_type": "display_data"
    }
   ],
   "source": [
    "sns.lineplot(x=range(len(total_train_rewards)), y=total_train_rewards)\n",
    "plt.title(\"Total rewards\")\n",
    "plt.show()"
   ],
   "metadata": {
    "collapsed": false,
    "pycharm": {
     "name": "#%%\n"
    }
   }
  },
  {
   "cell_type": "code",
   "execution_count": 249,
   "outputs": [],
   "source": [
    "def test(n_episodes=1):\n",
    "    global env\n",
    "    for _ in range(n_episodes):\n",
    "        env.reset()\n",
    "        state = get_state(env)\n",
    "        cargo_paths = dict()\n",
    "        episode_reward_sum = 0\n",
    "        steps = 0\n",
    "        total_test_reward = 0\n",
    "        while True:\n",
    "\n",
    "            if steps > MAX_STEPS:\n",
    "                break\n",
    "\n",
    "            for cargo in env.cargos.keys():\n",
    "                steps += 1\n",
    "                cargo_state = get_cargo_state(state, cargo)\n",
    "                action = policy_net(cargo_state.to(device)).max(1)[1].view(1, 1).to(\"cpu\")\n",
    "                is_possible_move = env.check_move(cargo, actions_list[action])\n",
    "\n",
    "                if not cargo_paths.get(cargo):\n",
    "                    cargo_paths[cargo] = []\n",
    "\n",
    "                cargo_paths[cargo].append(actions_list[action])\n",
    "                if is_possible_move:\n",
    "                    env.move_cargo(cargo, actions_list[action])\n",
    "                else:\n",
    "                    pass\n",
    "\n",
    "                reward = get_reward(env, is_possible_move)\n",
    "                if env.is_done():\n",
    "                    reward += 1000\n",
    "\n",
    "                episode_reward_sum += reward.item()\n",
    "                total_test_reward += reward.item()\n",
    "                next_state = get_state(env)\n",
    "                state = next_state\n",
    "                if env.is_done():\n",
    "                    break\n",
    "            if env.is_done():\n",
    "                break\n",
    "        total_train_rewards.append(episode_reward_sum)\n",
    "        episode_results.append(env.is_done())\n",
    "        print(\"Is done: {}\".format(env.is_done()))\n",
    "        print(\"Reward: {}\".format(total_test_reward))\n",
    "        print(\"Cargo positions: \")\n",
    "        for cargo in env.cargos.keys():\n",
    "            print(cargo, end=\": \")\n",
    "            for pos in env.cargos[cargo]:\n",
    "                print(pos, end=\" \")\n",
    "            print()\n",
    "        print(f\"steps performed: {steps}\")\n",
    "        print(f\"cargo paths: {cargo_paths}\")\n",
    "        env.world_visualisation()\n",
    "        print(\"-\" * 40)"
   ],
   "metadata": {
    "collapsed": false,
    "pycharm": {
     "name": "#%%\n"
    }
   }
  },
  {
   "cell_type": "code",
   "execution_count": 250,
   "outputs": [
    {
     "name": "stdout",
     "output_type": "stream",
     "text": [
      "Is done: False\n",
      "Reward: 5458.0\n",
      "Cargo positions: \n",
      "1: [8 9] \n",
      "2: [ 8 11] [ 8 12] [ 9 11] [ 9 12] \n",
      "3: [ 6 10] [ 6 11] [ 7 10] \n",
      "4: [13  8] \n",
      "steps performed: 804\n",
      "cargo paths: {'1': ['U', 'R', 'R', 'R', 'R', 'R', 'R', 'L', 'U', 'D', 'U', 'D', 'D', 'D', 'D', 'D', 'U', 'D', 'U', 'D', 'U', 'D', 'U', 'D', 'U', 'D', 'U', 'D', 'U', 'D', 'U', 'D', 'U', 'D', 'U', 'D', 'U', 'D', 'U', 'D', 'U', 'D', 'U', 'D', 'U', 'D', 'U', 'D', 'U', 'D', 'U', 'D', 'U', 'D', 'U', 'D', 'U', 'D', 'U', 'D', 'U', 'D', 'U', 'D', 'U', 'D', 'U', 'D', 'U', 'D', 'U', 'D', 'U', 'D', 'U', 'D', 'U', 'D', 'U', 'D', 'U', 'D', 'U', 'D', 'U', 'D', 'U', 'D', 'U', 'D', 'U', 'D', 'U', 'D', 'U', 'D', 'U', 'D', 'U', 'D', 'U', 'D', 'U', 'D', 'U', 'D', 'U', 'D', 'U', 'D', 'U', 'D', 'U', 'D', 'U', 'D', 'U', 'D', 'U', 'D', 'U', 'D', 'U', 'D', 'U', 'D', 'U', 'D', 'U', 'D', 'U', 'D', 'U', 'D', 'U', 'D', 'U', 'D', 'U', 'D', 'U', 'D', 'U', 'D', 'U', 'D', 'U', 'D', 'U', 'D', 'U', 'D', 'U', 'D', 'U', 'D', 'U', 'D', 'U', 'D', 'U', 'D', 'U', 'D', 'U', 'D', 'U', 'D', 'U', 'D', 'U', 'D', 'U', 'D', 'U', 'D', 'U', 'D', 'U', 'D', 'U', 'D', 'U', 'D', 'U', 'D', 'U', 'D', 'U', 'D', 'U', 'D', 'U', 'D', 'U', 'D', 'U', 'D', 'U', 'D', 'U'], '2': ['R', 'R', 'R', 'R', 'R', 'R', 'R', 'U', 'R', 'D', 'D', 'D', 'D', 'U', 'U', 'D', 'U', 'D', 'U', 'D', 'U', 'D', 'U', 'D', 'U', 'D', 'U', 'D', 'U', 'D', 'U', 'D', 'U', 'D', 'U', 'D', 'U', 'D', 'U', 'D', 'U', 'D', 'U', 'D', 'U', 'D', 'U', 'D', 'U', 'D', 'U', 'D', 'U', 'D', 'U', 'D', 'U', 'D', 'U', 'D', 'U', 'D', 'U', 'D', 'U', 'D', 'U', 'D', 'U', 'D', 'U', 'D', 'U', 'D', 'U', 'D', 'U', 'D', 'U', 'D', 'U', 'D', 'U', 'D', 'U', 'D', 'U', 'D', 'U', 'D', 'U', 'D', 'U', 'D', 'U', 'D', 'U', 'D', 'U', 'D', 'U', 'D', 'U', 'D', 'U', 'D', 'U', 'D', 'U', 'D', 'U', 'D', 'U', 'D', 'U', 'D', 'U', 'D', 'U', 'D', 'U', 'D', 'U', 'D', 'U', 'D', 'U', 'D', 'U', 'D', 'U', 'D', 'U', 'D', 'U', 'D', 'U', 'D', 'U', 'D', 'U', 'D', 'U', 'D', 'U', 'D', 'U', 'D', 'U', 'D', 'U', 'D', 'U', 'D', 'U', 'D', 'U', 'D', 'U', 'D', 'U', 'D', 'U', 'D', 'U', 'D', 'U', 'D', 'U', 'D', 'U', 'D', 'U', 'D', 'U', 'D', 'U', 'D', 'U', 'D', 'U', 'D', 'U', 'D', 'U', 'D', 'U', 'D', 'U', 'D', 'U', 'D', 'U', 'D', 'U', 'D', 'U', 'D', 'U', 'D', 'U'], '3': ['R', 'R', 'R', 'R', 'R', 'R', 'R', 'U', 'U', 'U', 'R', 'D', 'D', 'U', 'U', 'U', 'D', 'U', 'D', 'U', 'D', 'U', 'D', 'U', 'D', 'U', 'D', 'U', 'D', 'U', 'D', 'U', 'D', 'U', 'D', 'U', 'D', 'U', 'D', 'U', 'D', 'U', 'D', 'U', 'D', 'U', 'D', 'U', 'D', 'U', 'D', 'U', 'D', 'U', 'D', 'U', 'D', 'U', 'D', 'U', 'D', 'U', 'D', 'U', 'D', 'U', 'D', 'U', 'D', 'U', 'D', 'U', 'D', 'U', 'D', 'U', 'D', 'U', 'D', 'U', 'D', 'U', 'D', 'U', 'D', 'U', 'D', 'U', 'D', 'U', 'D', 'U', 'D', 'U', 'D', 'U', 'D', 'U', 'D', 'U', 'D', 'U', 'D', 'U', 'D', 'U', 'D', 'U', 'D', 'U', 'D', 'U', 'D', 'U', 'D', 'U', 'D', 'U', 'D', 'U', 'D', 'U', 'D', 'U', 'D', 'U', 'D', 'U', 'D', 'U', 'D', 'U', 'D', 'U', 'D', 'U', 'D', 'U', 'D', 'U', 'D', 'U', 'D', 'U', 'D', 'U', 'D', 'U', 'D', 'U', 'D', 'U', 'D', 'U', 'D', 'U', 'D', 'U', 'D', 'U', 'D', 'U', 'D', 'U', 'D', 'U', 'D', 'U', 'D', 'U', 'D', 'U', 'D', 'U', 'D', 'U', 'D', 'U', 'D', 'U', 'D', 'U', 'D', 'U', 'D', 'U', 'D', 'U', 'D', 'U', 'D', 'U', 'D', 'U', 'D', 'U', 'D', 'U', 'D', 'U', 'D'], '4': ['D', 'R', 'R', 'R', 'R', 'R', 'D', 'U', 'U', 'D', 'U', 'D', 'U', 'D', 'D', 'U', 'D', 'U', 'D', 'U', 'D', 'U', 'D', 'U', 'D', 'U', 'D', 'U', 'D', 'U', 'D', 'U', 'D', 'U', 'D', 'U', 'D', 'U', 'D', 'U', 'D', 'U', 'D', 'U', 'D', 'U', 'D', 'U', 'D', 'U', 'D', 'U', 'D', 'U', 'D', 'U', 'D', 'U', 'D', 'U', 'D', 'U', 'D', 'U', 'D', 'U', 'D', 'U', 'D', 'U', 'D', 'U', 'D', 'U', 'D', 'U', 'D', 'U', 'D', 'U', 'D', 'U', 'D', 'U', 'D', 'U', 'D', 'U', 'D', 'U', 'D', 'U', 'D', 'U', 'D', 'U', 'D', 'U', 'D', 'U', 'D', 'U', 'D', 'U', 'D', 'U', 'D', 'U', 'D', 'U', 'D', 'U', 'D', 'U', 'D', 'U', 'D', 'U', 'D', 'U', 'D', 'U', 'D', 'U', 'D', 'U', 'D', 'U', 'D', 'U', 'D', 'U', 'D', 'U', 'D', 'U', 'D', 'U', 'D', 'U', 'D', 'U', 'D', 'U', 'D', 'U', 'D', 'U', 'D', 'U', 'D', 'U', 'D', 'U', 'D', 'U', 'D', 'U', 'D', 'U', 'D', 'U', 'D', 'U', 'D', 'U', 'D', 'U', 'D', 'U', 'D', 'U', 'D', 'U', 'D', 'U', 'D', 'U', 'D', 'U', 'D', 'U', 'D', 'U', 'D', 'U', 'D', 'U', 'D', 'U', 'D', 'U', 'D', 'U', 'D', 'U', 'D', 'U', 'D', 'U', 'D']}\n",
      "0 0 0 0 0 0 0 0 0 0 0 0 0 0 0 0 0 0 0 0 \n",
      "0 0 0 0 0 0 0 0 0 0 0 0 0 0 0 0 0 0 0 0 \n",
      "0 0 0 0 0 0 0 0 0 0 0 0 0 0 0 0 0 0 0 0 \n",
      "0 0 0 0 0 0 0 0 0 0 0 0 0 0 0 0 0 0 0 0 \n",
      "0 0 0 0 0 0 0 0 0 r r r r r r r r r r 0 \n",
      "0 0 0 0 0 0 0 0 0 r r r r r r r r r r 0 \n",
      "0 0 0 0 0 0 0 0 0 r 3 3 r r r r r r r 0 \n",
      "0 0 0 0 0 0 0 0 0 r 3 r r r r r r r r 0 \n",
      "0 0 0 0 0 0 0 0 0 1 r 2 2 r r r r r r 0 \n",
      "0 0 0 0 0 0 0 0 0 r r 2 2 r r r r r r 0 \n",
      "0 0 0 0 0 0 0 0 0 r r r r r r r r r r 0 \n",
      "0 0 0 0 0 0 0 0 0 r r r r r r r r r r 0 \n",
      "0 0 0 0 0 0 0 0 0 r r r r r r r r r r 0 \n",
      "0 0 0 0 0 0 0 0 4 0 0 0 0 0 0 0 0 0 0 0 \n",
      "0 0 0 0 0 0 0 0 0 0 0 0 0 0 0 0 0 0 0 0 \n",
      "0 0 0 0 0 0 0 0 0 0 0 0 0 0 0 0 0 0 0 0 \n",
      "0 0 0 0 0 0 0 0 0 0 0 0 0 0 0 0 0 0 0 0 \n",
      "0 0 0 0 0 0 0 0 0 0 0 0 0 0 0 0 0 0 0 0 \n",
      "0 0 0 0 0 0 0 0 0 0 0 0 0 0 0 0 0 0 0 0 \n",
      "0 0 0 0 0 0 0 0 0 0 0 0 0 0 0 0 0 0 0 0 \n",
      "----------------------------------------\n"
     ]
    }
   ],
   "source": [
    "test()"
   ],
   "metadata": {
    "collapsed": false,
    "pycharm": {
     "name": "#%%\n"
    }
   }
  }
 ],
 "metadata": {
  "kernelspec": {
   "display_name": "Python 3",
   "language": "python",
   "name": "python3"
  },
  "language_info": {
   "codemirror_mode": {
    "name": "ipython",
    "version": 2
   },
   "file_extension": ".py",
   "mimetype": "text/x-python",
   "name": "python",
   "nbconvert_exporter": "python",
   "pygments_lexer": "ipython2",
   "version": "2.7.6"
  }
 },
 "nbformat": 4,
 "nbformat_minor": 0
}